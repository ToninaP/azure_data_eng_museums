{
 "cells": [
  {
   "cell_type": "markdown",
   "metadata": {
    "application/vnd.databricks.v1+cell": {
     "cellMetadata": {},
     "inputWidgets": {},
     "nuid": "44ac6476-3dc1-4fd2-9bdc-c532503f6ac6",
     "showTitle": false,
     "tableResultSettingsMap": {},
     "title": ""
    }
   },
   "source": [
    "# 0. connect to Data lake"
   ]
  },
  {
   "cell_type": "code",
   "execution_count": 0,
   "metadata": {
    "application/vnd.databricks.v1+cell": {
     "cellMetadata": {
      "byteLimit": 2048000,
      "rowLimit": 10000
     },
     "inputWidgets": {},
     "nuid": "ab02ee20-0e5f-4cd8-ae47-6daf789c36c3",
     "showTitle": false,
     "tableResultSettingsMap": {},
     "title": ""
    }
   },
   "outputs": [],
   "source": [
    "service_credential = dbutils.secrets.get(scope=\"scope-keyVault\",key=\"databricksServicePrincipal\")\n",
    "\n",
    "spark.conf.set(\"fs.azure.account.auth.type.museumsdatalakeraw.dfs.core.windows.net\", \"OAuth\")\n",
    "spark.conf.set(\"fs.azure.account.oauth.provider.type.museumsdatalakeraw.dfs.core.windows.net\", \"org.apache.hadoop.fs.azurebfs.oauth2.ClientCredsTokenProvider\")\n",
    "spark.conf.set(\"fs.azure.account.oauth2.client.id.museumsdatalakeraw.dfs.core.windows.net\", \"ee577ff8-4507-4b0a-87ae-06ca001ef8cc\")\n",
    "spark.conf.set(\"fs.azure.account.oauth2.client.secret.museumsdatalakeraw.dfs.core.windows.net\", service_credential)\n",
    "spark.conf.set(\"fs.azure.account.oauth2.client.endpoint.museumsdatalakeraw.dfs.core.windows.net\", \"https://login.microsoftonline.com/4f7d484c-d3d2-428a-9840-6d5d56dd7249/oauth2/token\")"
   ]
  },
  {
   "cell_type": "code",
   "execution_count": 0,
   "metadata": {
    "application/vnd.databricks.v1+cell": {
     "cellMetadata": {},
     "inputWidgets": {},
     "nuid": "538fc785-c64d-410f-81e0-7c6250dfe4cc",
     "showTitle": false,
     "tableResultSettingsMap": {},
     "title": ""
    }
   },
   "outputs": [],
   "source": [
    "dbutils.fs.ls(\"abfss://standardized@museumsdatalakeraw.dfs.core.windows.net/ateneum\")"
   ]
  },
  {
   "cell_type": "markdown",
   "metadata": {
    "application/vnd.databricks.v1+cell": {
     "cellMetadata": {},
     "inputWidgets": {},
     "nuid": "ad239405-551d-419e-98f4-1a7c027beaab",
     "showTitle": false,
     "tableResultSettingsMap": {},
     "title": ""
    }
   },
   "source": [
    "# 1. Load standardized tables into a list of data frames"
   ]
  },
  {
   "cell_type": "code",
   "execution_count": 0,
   "metadata": {
    "application/vnd.databricks.v1+cell": {
     "cellMetadata": {
      "byteLimit": 2048000,
      "rowLimit": 10000
     },
     "inputWidgets": {},
     "nuid": "69bfdffa-d38d-4a09-b0d2-cb3aa6f6f375",
     "showTitle": false,
     "tableResultSettingsMap": {},
     "title": ""
    }
   },
   "outputs": [],
   "source": [
    "dfArr = []\n",
    "data_paths = ['ateneum', 'kiasma', 'met']\n",
    "for path in data_paths:\n",
    "    # Read the parquet file\n",
    "    df = spark.read.parquet(\"abfss://standardized@museumsdatalakeraw.dfs.core.windows.net/\" + path)\n",
    "    \n",
    "    # Limit to first 100 rows\n",
    "    #df = df.limit(100)\n",
    "    \n",
    "    # Add to array\n",
    "    dfArr.append(df)"
   ]
  },
  {
   "cell_type": "markdown",
   "metadata": {
    "application/vnd.databricks.v1+cell": {
     "cellMetadata": {},
     "inputWidgets": {},
     "nuid": "20172d36-4f8e-47aa-bcf3-874a96d9e6eb",
     "showTitle": false,
     "tableResultSettingsMap": {},
     "title": ""
    }
   },
   "source": [
    "# 2. create cleaning functions"
   ]
  },
  {
   "cell_type": "code",
   "execution_count": 0,
   "metadata": {
    "application/vnd.databricks.v1+cell": {
     "cellMetadata": {
      "byteLimit": 2048000,
      "rowLimit": 10000
     },
     "inputWidgets": {},
     "nuid": "ef820270-2ca1-4fec-8ec6-00c4b8041284",
     "showTitle": false,
     "tableResultSettingsMap": {},
     "title": ""
    }
   },
   "outputs": [],
   "source": [
    "#cleaning functions\n",
    "from pyspark.sql import functions as F\n",
    "import re\n",
    "from pyspark.sql.types import *\n",
    "def extract_year(text_column):\n",
    "    \"\"\"\n",
    "    Extract a 4-digit number from a string column.\n",
    "    If multiple 4-digit numbers exist, return the last one.\n",
    "    Will not return a year greater than 2025.\n",
    "    \n",
    "    Args:\n",
    "        text_column: Column name containing text to extract year from\n",
    "        \n",
    "    Returns:\n",
    "        PySpark column with extracted year as integer\n",
    "    \"\"\"\n",
    "    @F.udf(returnType=IntegerType())\n",
    "    def extract_year_udf(text):\n",
    "        if text is None:\n",
    "            return None\n",
    "        \n",
    "        # Find all 4-digit numbers in the string\n",
    "        matches = re.findall(r'\\b\\d{4}\\b', str(text))\n",
    "        \n",
    "        # Return the last match if any found, otherwise None\n",
    "        if matches:\n",
    "            # Get the last match\n",
    "            year = int(matches[-1])\n",
    "            # Ensure the year is not greater than 2025\n",
    "            if year <= 2025:\n",
    "                return year\n",
    "            else:\n",
    "                # If the extracted year is in the future, return None or you could \n",
    "                # choose to return the most recent valid year found\n",
    "                # Alternative approach: return the most recent valid year from matches\n",
    "                valid_years = [int(y) for y in matches if int(y) <= 2025]\n",
    "                if valid_years:\n",
    "                    return valid_years[-1]\n",
    "                return None\n",
    "        return None\n",
    "    \n",
    "    return extract_year_udf(F.col(text_column))"
   ]
  },
  {
   "cell_type": "markdown",
   "metadata": {
    "application/vnd.databricks.v1+cell": {
     "cellMetadata": {},
     "inputWidgets": {},
     "nuid": "9a677207-0faf-4ed8-9048-9939c725f0dc",
     "showTitle": false,
     "tableResultSettingsMap": {},
     "title": ""
    }
   },
   "source": [
    "# 4. Use functions for cleaning"
   ]
  },
  {
   "cell_type": "code",
   "execution_count": 0,
   "metadata": {
    "application/vnd.databricks.v1+cell": {
     "cellMetadata": {
      "byteLimit": 2048000,
      "rowLimit": 10000
     },
     "inputWidgets": {},
     "nuid": "d9a0af11-dfe7-4ccb-8294-0a88f8f8682a",
     "showTitle": false,
     "tableResultSettingsMap": {},
     "title": ""
    }
   },
   "outputs": [],
   "source": [
    "# Data for future tables\n",
    "artworks = []\n",
    "artists = []\n",
    "acquisition = []\n",
    "dimensions = []\n",
    "medium = []\n",
    "museum = []\n",
    "\n",
    "for df in dfArr:\n",
    "    # Copy data so original df will not change\n",
    "    museum_data = df.alias(\"museum_data\")\n",
    "    \n",
    "    # drop all rows with na in object_id and inventory_n columns\n",
    "    museum_data = museum_data.na.drop(subset=['object_id', 'inventory_n'])\n",
    "    \n",
    "    # Apply custom function to extract years - only if the source columns exist\n",
    "    if 'production_raw' in museum_data.columns:\n",
    "        museum_data = museum_data.withColumn('production_year', extract_year('production_raw'))\n",
    "    if 'acquisition_raw' in museum_data.columns:\n",
    "        museum_data = museum_data.withColumn('acquisition_year', extract_year('acquisition_raw'))\n",
    "    if 'artist_birth_raw' in museum_data.columns:\n",
    "        museum_data = museum_data.withColumn('artist_birth_year', extract_year('artist_birth_raw'))\n",
    "    if 'artist_death_raw' in museum_data.columns:\n",
    "        museum_data = museum_data.withColumn('artist_death_year', extract_year('artist_death_raw'))\n",
    "    \n",
    "    # Group by artist_id\n",
    "    artists_df = museum_data.select('artist_id').distinct()\n",
    "    \n",
    "    # Create dataframes with desired columns, only including columns that exist    \n",
    "    # Artwork dataframe\n",
    "    artwork_columns = [\"object_id\", \"inventory_n\", \"title\",\n",
    "                    \"production_year\", \"acquisition_year\", \"artist_id\", \"museum_id\"]\n",
    "    df1 = museum_data.select(*artwork_columns)\n",
    "    artworks.append(df1)\n",
    "    \n",
    "    # Artist dataframe\n",
    "    artist_columns = [\"artist_id\", \"artist_name\", \"artist_birth_year\", \n",
    "                     \"artist_death_year\", \"artist_group\", \"artist_gender\", \"artist_country_raw\", \"museum_id\"]\n",
    "    temp_df = museum_data\n",
    "    for col in artist_columns:\n",
    "        if col not in temp_df.columns:\n",
    "            temp_df = temp_df.withColumn(col, F.lit(None))\n",
    "    df2 = temp_df.select(*artist_columns)\\\n",
    "        .dropDuplicates(['artist_name', 'artist_id'])\\\n",
    "        .dropna(subset=['artist_name', 'artist_id'])\n",
    "    artists.append(df2)\n",
    "    \n",
    "    # Acquisition dataframe\n",
    "    acquisition_columns = [\"object_id\", \"museum_id\", \"acquisition_method_raw\", \"acquisition_year\"]\n",
    "    temp_df = museum_data\n",
    "    for col in acquisition_columns:\n",
    "        if col not in temp_df.columns:\n",
    "            temp_df = temp_df.withColumn(col, F.lit(None))\n",
    "    df3 = temp_df.select(*acquisition_columns)\n",
    "    acquisition.append(df3)\n",
    "    \n",
    "    # Dimensions dataframe\n",
    "    dimensions_columns = [\"object_id\", \"museum_id\", \"dimension_unit\", \"measurement_value1\", \n",
    "                         \"measurement_value2\", \"measurement_value3\", \"measurement_value4\"]\n",
    "    temp_df = museum_data\n",
    "    for col in dimensions_columns:\n",
    "        if col not in temp_df.columns:\n",
    "            temp_df = temp_df.withColumn(col, F.lit(None))\n",
    "    df4 = temp_df.select(*dimensions_columns)\n",
    "    dimensions.append(df4)\n",
    "    \n",
    "    # Medium dataframe\n",
    "    medium_columns = [\"object_id\", \"museum_id\", \"medium_classification_raw\", \"medium1\", \n",
    "                     \"medium2\", \"medium3\", \"medium4\", \"medium5\"]\n",
    "    temp_df = museum_data\n",
    "    for col in medium_columns:\n",
    "        if col not in temp_df.columns:\n",
    "            temp_df = temp_df.withColumn(col, F.lit(None))\n",
    "    df5 = temp_df.select(*medium_columns)\n",
    "    medium.append(df5)\n",
    "    \n",
    "    # Museum dataframe - keeping only distinct museum records\n",
    "    museum_columns = [\"museum_id\", \"museum_name\"]\n",
    "    existing_museum_cols = [col for col in museum_columns if col in museum_data.columns]\n",
    "    df6 = museum_data.select(*existing_museum_cols).dropDuplicates(['museum_id'])\n",
    "    museum.append(df6)\n"
   ]
  },
  {
   "cell_type": "markdown",
   "metadata": {
    "application/vnd.databricks.v1+cell": {
     "cellMetadata": {},
     "inputWidgets": {},
     "nuid": "b2cd2e69-095e-4f3a-9f1b-f992c425d9e9",
     "showTitle": false,
     "tableResultSettingsMap": {},
     "title": ""
    }
   },
   "source": [
    "# 5. concatenate dataframes from each museum into one"
   ]
  },
  {
   "cell_type": "code",
   "execution_count": 0,
   "metadata": {
    "application/vnd.databricks.v1+cell": {
     "cellMetadata": {
      "byteLimit": 2048000,
      "rowLimit": 10000
     },
     "inputWidgets": {},
     "nuid": "95ca3839-1407-434a-a3ef-3efc73a4eb5d",
     "showTitle": false,
     "tableResultSettingsMap": {},
     "title": ""
    }
   },
   "outputs": [],
   "source": [
    "# Combine all dataframes of each type\n",
    "from functools import reduce\n",
    "from pyspark.sql import DataFrame\n",
    "\n",
    "combined_artworks = reduce(DataFrame.unionByName, artworks)\n",
    "combined_artists = reduce(DataFrame.unionByName, artists)\n",
    "combined_acquisition = reduce(DataFrame.unionByName, acquisition)\n",
    "combined_dimensions = reduce(DataFrame.unionByName, dimensions)\n",
    "combined_medium = reduce(DataFrame.unionByName, medium)\n",
    "combined_museum = reduce(DataFrame.unionByName, museum)"
   ]
  },
  {
   "cell_type": "markdown",
   "metadata": {
    "application/vnd.databricks.v1+cell": {
     "cellMetadata": {},
     "inputWidgets": {},
     "nuid": "da14a53e-5f5e-4722-ad5a-6d1074b9803e",
     "showTitle": false,
     "tableResultSettingsMap": {},
     "title": ""
    }
   },
   "source": [
    "# 6. save final dataframes into Clean Datalake layer using Delta format"
   ]
  },
  {
   "cell_type": "code",
   "execution_count": 0,
   "metadata": {
    "application/vnd.databricks.v1+cell": {
     "cellMetadata": {
      "byteLimit": 2048000,
      "rowLimit": 10000
     },
     "inputWidgets": {},
     "nuid": "f2b32f92-df43-42f1-8314-f22caa64ad74",
     "showTitle": false,
     "tableResultSettingsMap": {},
     "title": ""
    }
   },
   "outputs": [],
   "source": [
    "combined_artworks.write.format(\"delta\").mode(\"overwrite\").save(\"abfss://clean@museumsdatalakeraw.dfs.core.windows.net//artworks_fact\")"
   ]
  },
  {
   "cell_type": "code",
   "execution_count": 0,
   "metadata": {
    "application/vnd.databricks.v1+cell": {
     "cellMetadata": {
      "byteLimit": 2048000,
      "rowLimit": 10000
     },
     "inputWidgets": {},
     "nuid": "7976dbe6-d52a-43d5-a02c-38796ecac6b1",
     "showTitle": false,
     "tableResultSettingsMap": {},
     "title": ""
    }
   },
   "outputs": [],
   "source": [
    "combined_artists.write.format(\"delta\").mode(\"overwrite\").save(\"abfss://clean@museumsdatalakeraw.dfs.core.windows.net//artists_dim\")\n",
    "combined_acquisition.write.format(\"delta\").mode(\"overwrite\").save(\"abfss://clean@museumsdatalakeraw.dfs.core.windows.net//acquisition_dim\")\n",
    "combined_dimensions.write.format(\"delta\").mode(\"overwrite\").save(\"abfss://clean@museumsdatalakeraw.dfs.core.windows.net//dimensions_dim\")\n",
    "combined_medium.write.format(\"delta\").mode(\"overwrite\").save(\"abfss://clean@museumsdatalakeraw.dfs.core.windows.net//medium_dim\")\n",
    "combined_museum.write.format(\"delta\").mode(\"overwrite\").save(\"abfss://clean@museumsdatalakeraw.dfs.core.windows.net//museum_dim\")"
   ]
  },
  {
   "cell_type": "code",
   "execution_count": 0,
   "metadata": {
    "application/vnd.databricks.v1+cell": {
     "cellMetadata": {
      "byteLimit": 2048000,
      "rowLimit": 10000
     },
     "inputWidgets": {},
     "nuid": "6c40946d-4b9a-45e7-ac3e-bfc516e00a61",
     "showTitle": false,
     "tableResultSettingsMap": {},
     "title": ""
    }
   },
   "outputs": [
    {
     "output_type": "display_data",
     "data": {
      "text/html": [
       "<style scoped>\n",
       "  .table-result-container {\n",
       "    max-height: 300px;\n",
       "    overflow: auto;\n",
       "  }\n",
       "  table, th, td {\n",
       "    border: 1px solid black;\n",
       "    border-collapse: collapse;\n",
       "  }\n",
       "  th, td {\n",
       "    padding: 5px;\n",
       "  }\n",
       "  th {\n",
       "    text-align: left;\n",
       "  }\n",
       "</style><div class='table-result-container'><table class='table-result'><thead style='background-color: white'><tr><th>object_id</th><th>inventory_n</th><th>title</th><th>production_year</th><th>acquisition_year</th><th>artist_id</th><th>museum_id</th></tr></thead><tbody><tr><td>378978</td><td>A I 457:234</td><td>Vänrikin markkinamuisto. Kuvitusta Vänrikki Stålin tarinoihin</td><td>1869</td><td>1873</td><td>69483</td><td>1</td></tr><tr><td>381328</td><td>RAMSAY 585</td><td>Marion</td><td>null</td><td>1919</td><td>65664</td><td>1</td></tr><tr><td>381635</td><td>A I 457:250</td><td>Kuoleva soturi. Kuvitusta Vänrikki Stålin tarinoihin</td><td>1869</td><td>1873</td><td>69483</td><td>1</td></tr><tr><td>382297</td><td>A I 457:189</td><td>Näkymä italialaisesta merenpoukamassa olevasta kaupungista, taustalla tulivuori</td><td>null</td><td>1873</td><td>69483</td><td>1</td></tr><tr><td>383944</td><td>A-2006-111</td><td>Vihreä Pariisi</td><td>2006</td><td>2006</td><td>63062</td><td>1</td></tr><tr><td>385746</td><td>A I 472:54</td><td>Seitsemän rokokoo-ornamenttia</td><td>1860</td><td>1890</td><td>60711</td><td>1</td></tr><tr><td>385804</td><td>A-2008-163</td><td>Harjalintu</td><td>1979</td><td>2008</td><td>70182</td><td>1</td></tr><tr><td>387171</td><td>A I 471:52</td><td>Pilvinen taivas, harjoitelma</td><td>1855</td><td>1890</td><td>60711</td><td>1</td></tr><tr><td>389036</td><td>A I 51</td><td>Rekolankoski Jämsässä</td><td>1869</td><td>1872</td><td>60025</td><td>1</td></tr><tr><td>392019</td><td>A I 606:6</td><td>lehtimetsäympäristö</td><td>null</td><td>1896</td><td>68727</td><td>1</td></tr><tr><td>392145</td><td>A I 75</td><td>Kerjäläispojat pelaavat nopilla, kopio Murillon mukaan</td><td>1866</td><td>1866</td><td>66965</td><td>1</td></tr><tr><td>393373</td><td>A I 754:179</td><td>\"Poika kulta, mieles malta\". Vänrikki Stoolin tarinain kuvitusta</td><td>1900</td><td>1903</td><td>70301</td><td>1</td></tr><tr><td>393485</td><td>A I 52</td><td>Kehräävä eukko</td><td>1846</td><td>1865</td><td>59563</td><td>1</td></tr><tr><td>393724</td><td>A II 1195</td><td>Sisäkuva Finströmin kirkosta</td><td>1871</td><td>1874</td><td>64032</td><td>1</td></tr><tr><td>393787</td><td>A-2008-497</td><td>Pas de deux</td><td>1952</td><td>2008</td><td>66635</td><td>1</td></tr><tr><td>394150</td><td>A-2008-491:3</td><td>Mies ja sateenvarjo</td><td>1969</td><td>2008</td><td>67483</td><td>1</td></tr><tr><td>394967</td><td>A II 1113</td><td>Koivuharjoitelma</td><td>1900</td><td>1916</td><td>68825</td><td>1</td></tr><tr><td>396104</td><td>A II 1070</td><td>Pinier i St. Tropez, Frankrike</td><td>null</td><td>1915</td><td>61635</td><td>1</td></tr><tr><td>396679</td><td>A II 1711</td><td>Ruotsalaista sadonkorjuuväkeä veneessä</td><td>1855</td><td>1928</td><td>69483</td><td>1</td></tr><tr><td>397183</td><td>A IV 4038</td><td>Maisema</td><td>1972</td><td>1972</td><td>61822</td><td>1</td></tr><tr><td>397387</td><td>A-2008-436:1</td><td>Danza Minima I (kuva V)</td><td>1973</td><td>2008</td><td>61333</td><td>1</td></tr><tr><td>398100</td><td>A II 841:307 A, B, C</td><td>Näyttelijät Kawarazaki Gonjuro, Nakamura Shikan, Sawamura Tanosuke ja Ichimura Uzaemon näytelmässä Cho no harutoki eno saya-ate (Riitapukareiden kaksintaistelu)</td><td>1861</td><td>1908</td><td>59812</td><td>1</td></tr><tr><td>398447</td><td>A I 637:2/10</td><td>Miekkoja teroitetaan</td><td>1854</td><td>1899</td><td>60025</td><td>1</td></tr><tr><td>398836</td><td>N-2015-94</td><td>Hakalan riihi, Sysmä</td><td>1976</td><td>2015</td><td>68801</td><td>1</td></tr><tr><td>400495</td><td>A-2010-157</td><td>Kukkatutkielma</td><td>2008</td><td>2010</td><td>69550</td><td>1</td></tr><tr><td>400885</td><td>A-2016-468</td><td>Valo vastarannalla</td><td>1981</td><td>null</td><td>62339</td><td>1</td></tr><tr><td>402036</td><td>C III B II 177:201</td><td>La Journée du Poilu 31 Octobre 1er Novembre (juliste)</td><td>1918</td><td>1920</td><td>59651</td><td>1</td></tr><tr><td>402036</td><td>C III B II 177:201</td><td>La Journée du Poilu 31 Octobre 1er Novembre (juliste)</td><td>1918</td><td>1920</td><td>60969</td><td>1</td></tr><tr><td>402132</td><td>A-2010-192</td><td>Pierrot (Pajatson prologi)</td><td>1947</td><td>2010</td><td>66065</td><td>1</td></tr><tr><td>402550</td><td>A-2011-430</td><td>Laskostettu kangas tuolin päällä</td><td>1877</td><td>2011</td><td>67630</td><td>1</td></tr><tr><td>406186</td><td>A V 4966:26</td><td>Luonnoskirja</td><td>null</td><td>1988</td><td>66551</td><td>1</td></tr><tr><td>406722</td><td>A-2016-185</td><td>Asetelma</td><td>2010</td><td>null</td><td>62935</td><td>1</td></tr><tr><td>407327</td><td>A-2011-399:2</td><td>Viimeinen ilta</td><td>1966</td><td>null</td><td>63007</td><td>1</td></tr><tr><td>407815</td><td>A-2011-328</td><td>Parrakkaan miehen pää, veistoksen mukaan</td><td>1878</td><td>2011</td><td>67630</td><td>1</td></tr><tr><td>410122</td><td>A II 1654</td><td>Maisema Pohjanmaalta</td><td>1921</td><td>1926</td><td>60597</td><td>1</td></tr><tr><td>411560</td><td>N-2014-100</td><td>Kasvu II</td><td>1990</td><td>2014</td><td>60134</td><td>1</td></tr><tr><td>412114</td><td>A II 1608:118</td><td>Lähteellä</td><td>null</td><td>1926</td><td>71122</td><td>1</td></tr><tr><td>413985</td><td>A-2013-309:915</td><td>Sininen kortteli</td><td>1964</td><td>2013</td><td>65476</td><td>1</td></tr><tr><td>414635</td><td>A-2016-517</td><td>Reuna</td><td>1992</td><td>null</td><td>62935</td><td>1</td></tr><tr><td>415064</td><td>A-2013-309:60</td><td>Vedennoutajia</td><td>1943</td><td>2013</td><td>65476</td><td>1</td></tr><tr><td>415095</td><td>C III B II 245:52</td><td>Bomarsund ja Skarpansin linnoitetut kasarmit, kuvitusta teokseen Finland framställdt i teckningar, vihkot XVIII ja XIX</td><td>1848</td><td>null</td><td>60025</td><td>1</td></tr><tr><td>415290</td><td>A II 841:198</td><td>Näyttelijä Ichikawa Danjuro VIII neljässä roolihahmossa: Sukeroku, Mitsu-uji, Kasugaya Tokikuro ja Watonai</td><td>1854</td><td>1908</td><td>59812</td><td>1</td></tr><tr><td>415530</td><td>A II 962:1</td><td>Katolinen pappi</td><td>1912</td><td>1912</td><td>70681</td><td>1</td></tr><tr><td>416250</td><td>C III B II 245:45</td><td>Tuovilanlahti, kuvitusta teokseen Finland framställdt i teckningar, vihko XV</td><td>1847</td><td>null</td><td>63677</td><td>1</td></tr><tr><td>416905</td><td>C III B II 245:54</td><td>Prästön sotilassairaala, kuvitusta teokseen Finland framställdt i teckningar, vihkot XVIII ja XIX</td><td>1848</td><td>null</td><td>60025</td><td>1</td></tr><tr><td>417266</td><td>A-2013-309:379</td><td>Albergo Rufolo III</td><td>1953</td><td>2013</td><td>65476</td><td>1</td></tr><tr><td>418470</td><td>A-2016-118</td><td>Croquis</td><td>null</td><td>null</td><td>64787</td><td>1</td></tr><tr><td>419399</td><td>A-2013-309:800</td><td>Mykonos</td><td>1961</td><td>2013</td><td>65476</td><td>1</td></tr><tr><td>419587</td><td>A-2013-309:691</td><td>Jääpalloilijat</td><td>1959</td><td>2013</td><td>65476</td><td>1</td></tr><tr><td>420266</td><td>A-2013-309:734</td><td>Nunna ja kaksi aasia</td><td>1961</td><td>2013</td><td>65476</td><td>1</td></tr><tr><td>420663</td><td>A-2013-309:976</td><td>Suon usvaa (sarjasta Toiset maailmat)</td><td>1966</td><td>null</td><td>65476</td><td>1</td></tr><tr><td>421752</td><td>A-2013-309:954</td><td>Savupilvi</td><td>1966</td><td>2013</td><td>65476</td><td>1</td></tr><tr><td>422213</td><td>A-2016-111</td><td>Täydenkuun tanssi</td><td>2000</td><td>null</td><td>65380</td><td>1</td></tr><tr><td>422670</td><td>A-2016-174</td><td>Lauttasaari</td><td>1989</td><td>null</td><td>67301</td><td>1</td></tr><tr><td>422741</td><td>A-2013-309:862</td><td>Lähde</td><td>1963</td><td>2013</td><td>65476</td><td>1</td></tr><tr><td>423455</td><td>A-2013-309:484</td><td>Nizza</td><td>1955</td><td>2013</td><td>65476</td><td>1</td></tr><tr><td>423657</td><td>A II 985:89</td><td>Viisi karrikoitua muotoharjoitelmaa</td><td>null</td><td>1913</td><td>70994</td><td>1</td></tr><tr><td>423831</td><td>A III 2281:193</td><td>Poika</td><td>1888</td><td>1938</td><td>65841</td><td>1</td></tr><tr><td>423898</td><td>A III 2281:94</td><td>Nainen lapsi sylissään</td><td>1857</td><td>1938</td><td>65841</td><td>1</td></tr><tr><td>423984</td><td>A II 1669:2 / 17</td><td>Tanssijatar, Mies historiallisessa asussa</td><td>null</td><td>null</td><td>70762</td><td>1</td></tr><tr><td>425484</td><td>A III 2281:458</td><td>Mailaa pitelevä mies takaapäin</td><td>null</td><td>1938</td><td>65841</td><td>1</td></tr><tr><td>425870</td><td>A-2016-1039</td><td>Croquis, istuva mies</td><td>1993</td><td>null</td><td>64787</td><td>1</td></tr><tr><td>425984</td><td>A-2016-402</td><td>Hiljaisuus</td><td>1990</td><td>null</td><td>61822</td><td>1</td></tr><tr><td>426060</td><td>A-2013-309:1276</td><td>Sirkus - Kolme luonnosta</td><td>1981</td><td>2013</td><td>65476</td><td>1</td></tr><tr><td>426316</td><td>A-2013-309:1138</td><td>El Torero (Corrida)</td><td>1951</td><td>2013</td><td>65476</td><td>1</td></tr><tr><td>426500</td><td>A-2017-151</td><td>Alaston naisfiguuri, harjoitelma</td><td>1936</td><td>2015</td><td>68685</td><td>1</td></tr><tr><td>427066</td><td>A-2016-249</td><td>Kutoja</td><td>1946</td><td>null</td><td>60707</td><td>1</td></tr><tr><td>427153</td><td>A-2016-421</td><td>Sieni</td><td>1992</td><td>null</td><td>61822</td><td>1</td></tr><tr><td>427582</td><td>A-2012-318</td><td>Busoni</td><td>1937</td><td>2012</td><td>61165</td><td>1</td></tr><tr><td>427723</td><td>A II 1517:58 / 42</td><td>Naisten kasvoja</td><td>null</td><td>null</td><td>70301</td><td>1</td></tr><tr><td>428034</td><td>A II 1517:60 / 60</td><td>null</td><td>null</td><td>null</td><td>70301</td><td>1</td></tr><tr><td>429316</td><td>A II 1517:75 / 143</td><td>null</td><td>null</td><td>null</td><td>70301</td><td>1</td></tr><tr><td>431560</td><td>A-2016-988</td><td>Croquis, istuva mies</td><td>1994</td><td>null</td><td>64787</td><td>1</td></tr><tr><td>431578</td><td>A III 1950:13</td><td>\"Nummisuutarien\" kuvitusta 1923, painamaton luonnos sivun 35 kuvaan, Sepeteus ja Topias</td><td>1923</td><td>1935</td><td>65290</td><td>1</td></tr><tr><td>432217</td><td>A-2017-88</td><td>Tiikerit leikkivät</td><td>2000</td><td>2017</td><td>63759</td><td>1</td></tr><tr><td>432734</td><td>A III 1762</td><td>Anna-Liisa, mallitutkielma</td><td>1901</td><td>1930</td><td>68531</td><td>1</td></tr><tr><td>432799</td><td>A II 1517:89 / 103</td><td>null</td><td>null</td><td>null</td><td>70301</td><td>1</td></tr><tr><td>433512</td><td>A II 1517:84 / 82</td><td>null</td><td>null</td><td>null</td><td>70301</td><td>1</td></tr><tr><td>433605</td><td>A-1993-80 / 142</td><td>null</td><td>1920</td><td>null</td><td>61165</td><td>1</td></tr><tr><td>434012</td><td>A II 1517:61 / 68</td><td>null</td><td>null</td><td>null</td><td>70301</td><td>1</td></tr><tr><td>435582</td><td>A II 1669:3 / 223</td><td>null</td><td>null</td><td>null</td><td>70762</td><td>1</td></tr><tr><td>436511</td><td>A II 1517:61 / 93</td><td>null</td><td>null</td><td>null</td><td>70301</td><td>1</td></tr><tr><td>436731</td><td>A III 2028:249</td><td>Luutnantti Ziden, luonnos Vänrikki Stoolin tarinain kuvitukseen</td><td>null</td><td>1935</td><td>70301</td><td>1</td></tr><tr><td>438374</td><td>A III 2028:296</td><td>Jumalanpalvelus Uudenmaan saaristossa, luonnos</td><td>null</td><td>1935</td><td>70301</td><td>1</td></tr><tr><td>439190</td><td>A-1993-65 / 71</td><td>Alastonmalli. Todennäköisesti n. 1908-09.</td><td>1909</td><td>null</td><td>61165</td><td>1</td></tr><tr><td>439521</td><td>A II 1517:75 / 31</td><td>null</td><td>null</td><td>null</td><td>70301</td><td>1</td></tr><tr><td>439720</td><td>A II 1517:93 / 6</td><td>null</td><td>null</td><td>null</td><td>70301</td><td>1</td></tr><tr><td>440105</td><td>A II 1517:79 / 16</td><td>Lapsia, luonnos teokseen Pariisin Luxembourgin puistossa</td><td>null</td><td>null</td><td>70301</td><td>1</td></tr><tr><td>440710</td><td>A III 2281:139</td><td>Heinola</td><td>1857</td><td>1938</td><td>65841</td><td>1</td></tr><tr><td>441764</td><td>A II 1517:17 / 30</td><td>null</td><td>null</td><td>null</td><td>70301</td><td>1</td></tr><tr><td>441873</td><td>A III 2131:31</td><td>Sivukuva myssypäisestä vanhasta naisesta</td><td>null</td><td>1936</td><td>67438</td><td>1</td></tr><tr><td>442069</td><td>A II 1517:58 / 105</td><td>Miehen kasvoja</td><td>null</td><td>null</td><td>70301</td><td>1</td></tr><tr><td>442582</td><td>A III 2199</td><td>Kaupunkikuva talvella</td><td>1914</td><td>1937</td><td>65139</td><td>1</td></tr><tr><td>442867</td><td>A III 2127</td><td>Nukkuva</td><td>1925</td><td>1936</td><td>70953</td><td>1</td></tr><tr><td>443244</td><td>A II 1517:17 / 12</td><td>null</td><td>null</td><td>null</td><td>70301</td><td>1</td></tr><tr><td>443516</td><td>A III 2107:4</td><td>Pierrot</td><td>1911</td><td>1936</td><td>66134</td><td>1</td></tr><tr><td>443838</td><td>A II 1517:80 / 40</td><td>null</td><td>null</td><td>null</td><td>70301</td><td>1</td></tr><tr><td>444328</td><td>A II 1517:46 / 52</td><td>Rantamaisema</td><td>1878</td><td>null</td><td>70301</td><td>1</td></tr><tr><td>445562</td><td>A III 2281:341</td><td>Faster Uggla ja moster Carin käsitöineen</td><td>1857</td><td>1938</td><td>65841</td><td>1</td></tr><tr><td>448490</td><td>A II 1517:66 / 87</td><td>null</td><td>null</td><td>null</td><td>70301</td><td>1</td></tr><tr><td>385238</td><td>N-1999-1040</td><td>nimetön</td><td>1967</td><td>1999</td><td>65889</td><td>2</td></tr><tr><td>395524</td><td>N-1999-1058</td><td>nimetön ; nimetön (kaksipuolinen teos)</td><td>null</td><td>1999</td><td>65889</td><td>2</td></tr><tr><td>398464</td><td>N-2008-88:13</td><td>Being there</td><td>2007</td><td>2008</td><td>63267</td><td>2</td></tr><tr><td>399744</td><td>N-2010-6</td><td>Puu</td><td>2009</td><td>2010</td><td>60445</td><td>2</td></tr><tr><td>403617</td><td>N-2012-22</td><td>Provinssi sarjasta Nuoret sankarit</td><td>1996</td><td>2012</td><td>59778</td><td>2</td></tr><tr><td>404803</td><td>N-2011-143:5</td><td></td><td>2011</td><td>2011</td><td>63354</td><td>2</td></tr><tr><td>408988</td><td>N-2013-23:2</td><td></td><td>2012</td><td>2013</td><td>61117</td><td>2</td></tr><tr><td>408988</td><td>N-2013-23:2</td><td></td><td>2012</td><td>2013</td><td>63237</td><td>2</td></tr><tr><td>410341</td><td>N-2013-217</td><td>Salaisuuteni, osa kolme: Tuntemattoman taiteilijan hauta</td><td>2008</td><td>2013</td><td>63595</td><td>2</td></tr><tr><td>411318</td><td>N-2012-46</td><td>Virnistys 2</td><td>2011</td><td>2012</td><td>68977</td><td>2</td></tr><tr><td>416311</td><td>N-2015-245:A-C</td><td>Oikea/riitti-asetelmia</td><td>2013</td><td>2015</td><td>62730</td><td>2</td></tr><tr><td>416311</td><td>N-2015-245:A-C</td><td>Oikea/riitti-asetelmia</td><td>2013</td><td>2015</td><td>62730</td><td>2</td></tr><tr><td>418318</td><td>N-2015-196:1</td><td>Setelisarja: Väinö Linna</td><td>2015</td><td>2015</td><td>66458</td><td>2</td></tr><tr><td>569581</td><td>C VI 2432</td><td>Uhriteltta</td><td>1984</td><td>1985</td><td>62821</td><td>2</td></tr><tr><td>571648</td><td>C V 1953</td><td>Päitä</td><td>1974</td><td>1975</td><td>60875</td><td>2</td></tr><tr><td>573405</td><td>C V 1954</td><td>Kerjäläinen</td><td>1974</td><td>1975</td><td>60875</td><td>2</td></tr><tr><td>578646</td><td>C V 1844</td><td>Kaksi ulottuvuutta II</td><td>1972</td><td>1974</td><td>69952</td><td>2</td></tr><tr><td>583189</td><td>B II 931</td><td>Saarivaltakunnan salaisuus</td><td>1983</td><td>1988</td><td>67045</td><td>2</td></tr><tr><td>584185</td><td>C VI 2541</td><td>Ihmisen paras ystävä</td><td>1987</td><td>1987</td><td>63817</td><td>2</td></tr><tr><td>589723</td><td>N-1993-250:16</td><td>Nimetön</td><td>1993</td><td>1993</td><td>60844</td><td>2</td></tr><tr><td>589919</td><td>N-1999-1286</td><td>nimetön (maisema)</td><td>null</td><td>1999</td><td>65889</td><td>2</td></tr><tr><td>594339</td><td>N-1999-210:2</td><td>Myrkyllisiä huuruja</td><td>1969</td><td>1999</td><td>65889</td><td>2</td></tr><tr><td>594694</td><td>N-1991-113</td><td>Sarjasta suomalaisia intiaaneja</td><td>1990</td><td>1991</td><td>68316</td><td>2</td></tr><tr><td>594958</td><td>N-1993-26:5</td><td>Laika-koira opastaa taiteen avaruuteen: Muinaisen Egyptin kuvanveisto</td><td>1985</td><td>1993</td><td>59520</td><td>2</td></tr><tr><td>595082</td><td>N-1992-98</td><td>Sarjasta Tuoli nro 9853</td><td>1992</td><td>null</td><td>70951</td><td>2</td></tr><tr><td>595322</td><td>N-1993-249</td><td>Dance all the Drums in your Body</td><td>1990</td><td>1993</td><td>62955</td><td>2</td></tr><tr><td>595479</td><td>N-1995-188</td><td>Ajanta</td><td>1995</td><td>1995</td><td>66251</td><td>2</td></tr><tr><td>597170</td><td>N-1991-347:52</td><td>Ex libris Jaakko Hemmi</td><td>1989</td><td>1990</td><td>60396</td><td>2</td></tr><tr><td>597378</td><td>N-1991-157</td><td>Baldessari Sings Lewitt</td><td>1972</td><td>1991</td><td>70916</td><td>2</td></tr><tr><td>597378</td><td>N-1991-157</td><td>Baldessari Sings Lewitt</td><td>1972</td><td>1991</td><td>70916</td><td>2</td></tr><tr><td>597512</td><td>N-1999-1345</td><td>Aikakone</td><td>null</td><td>1999</td><td>65889</td><td>2</td></tr><tr><td>598496</td><td>N-1991-168</td><td>Itärannikko länsirannikko</td><td>1969</td><td>1991</td><td>64234</td><td>2</td></tr><tr><td>598496</td><td>N-1991-168</td><td>Itärannikko länsirannikko</td><td>1969</td><td>1991</td><td>64234</td><td>2</td></tr><tr><td>598496</td><td>N-1991-168</td><td>Itärannikko länsirannikko</td><td>1969</td><td>1991</td><td>68162</td><td>2</td></tr><tr><td>598496</td><td>N-1991-168</td><td>Itärannikko länsirannikko</td><td>1969</td><td>1991</td><td>68162</td><td>2</td></tr><tr><td>600021</td><td>N-2001-17</td><td>Teltta</td><td>1995</td><td>2001</td><td>63774</td><td>2</td></tr><tr><td>600021</td><td>N-2001-17</td><td>Teltta</td><td>1995</td><td>2001</td><td>64278</td><td>2</td></tr><tr><td>600671</td><td>N-1999-1736</td><td>nimetön</td><td>1973</td><td>1999</td><td>65889</td><td>2</td></tr><tr><td>600750</td><td>N-1999-1680</td><td>nimetön (maisema)</td><td>1968</td><td>1999</td><td>65889</td><td>2</td></tr><tr><td>601209</td><td>N-1999-1161</td><td>Vastanaineet Im memoriam</td><td>1972</td><td>1999</td><td>65889</td><td>2</td></tr><tr><td>601586</td><td>N-1999-1677</td><td>nimetön</td><td>1968</td><td>1999</td><td>65889</td><td>2</td></tr><tr><td>602627</td><td>N-1999-1702:1</td><td>nimetön (luonnos)</td><td>null</td><td>1999</td><td>65889</td><td>2</td></tr><tr><td>603953</td><td>N-1999-206</td><td>nimetön</td><td>null</td><td>1999</td><td>65889</td><td>2</td></tr><tr><td>604027</td><td>N-1999-2426</td><td>nimetön ; luonnos</td><td>null</td><td>1999</td><td>65889</td><td>2</td></tr><tr><td>604649</td><td>N-1999-2379:11</td><td>nimetön ; alastonmalliharjoitelma</td><td>null</td><td>1999</td><td>65889</td><td>2</td></tr><tr><td>604738</td><td>N-1999-217</td><td>nimetön</td><td>null</td><td>1999</td><td>65889</td><td>2</td></tr><tr><td>605960</td><td>N-1997-110</td><td>Sarjasta Omakuvia: Vuosi 1967 / Unelma / Neitsytmorsian</td><td>1995</td><td>1997</td><td>62627</td><td>2</td></tr><tr><td>606404</td><td>N-1997-63</td><td>Näitä aikoja II</td><td>1983</td><td>1997</td><td>60894</td><td>2</td></tr><tr><td>606956</td><td>N-2001-24:B</td><td>Sarjasta \"Kannu\"</td><td>1973</td><td>2001</td><td>65889</td><td>2</td></tr><tr><td>607151</td><td>N-1999-2400</td><td>nimetön ; luonnos</td><td>1974</td><td>1999</td><td>65889</td><td>2</td></tr><tr><td>608018</td><td>N-1999-2107</td><td>nimetön (maisema)</td><td>null</td><td>1999</td><td>65889</td><td>2</td></tr><tr><td>608610</td><td>N-1999-70:1</td><td>Sarjasta Puny-rääpäle</td><td>1999</td><td>1999</td><td>60019</td><td>2</td></tr><tr><td>609101</td><td>N-1999-2617:61</td><td>nimetön ; luonnos</td><td>1973</td><td>1999</td><td>65889</td><td>2</td></tr><tr><td>609124</td><td>N-1999-2617:34</td><td>nimetön ; luonnos</td><td>null</td><td>1999</td><td>65889</td><td>2</td></tr><tr><td>610715</td><td>N-1999-393</td><td>nimetön (Stalin)</td><td>1975</td><td>1999</td><td>65889</td><td>2</td></tr><tr><td>611670</td><td>N-1999-543:3</td><td>nimetön</td><td>null</td><td>1999</td><td>65889</td><td>2</td></tr><tr><td>613339</td><td>N-1999-315</td><td>nimetön</td><td>null</td><td>1999</td><td>65889</td><td>2</td></tr><tr><td>613981</td><td>N-2001-39</td><td>Kadonnut keltaiseen</td><td>2000</td><td>null</td><td>66235</td><td>2</td></tr><tr><td>617951</td><td>N-2000-45:A-D</td><td>Jälkeen II</td><td>1999</td><td>2000</td><td>68789</td><td>2</td></tr><tr><td>618709</td><td>N-2003-877</td><td>Kollaasi</td><td>1989</td><td>2003</td><td>60519</td><td>2</td></tr><tr><td>620536</td><td>N-2003-45:3</td><td>Peltolan tamma</td><td>1966</td><td>2003</td><td>66904</td><td>2</td></tr><tr><td>621167</td><td>N-2004-19</td><td>Rajamailla</td><td>2003</td><td>2004</td><td>64700</td><td>2</td></tr><tr><td>621167</td><td>N-2004-19</td><td>Rajamailla</td><td>2003</td><td>2004</td><td>64700</td><td>2</td></tr><tr><td>621167</td><td>N-2004-19</td><td>Rajamailla</td><td>2003</td><td>2004</td><td>68291</td><td>2</td></tr><tr><td>621167</td><td>N-2004-19</td><td>Rajamailla</td><td>2003</td><td>2004</td><td>68291</td><td>2</td></tr><tr><td>621485</td><td>N-2003-29:5</td><td>Sumo-kultti</td><td>2002</td><td>2003</td><td>60934</td><td>2</td></tr><tr><td>626272</td><td>N-2005-50:9</td><td>Mato maatuma pellosta perunaa, ruokaa, toukokuu 2001</td><td>2001</td><td>2005</td><td>63080</td><td>2</td></tr><tr><td>817394</td><td>N-2018-346</td><td>Ego ja minuus</td><td>2011</td><td>2017</td><td>98175</td><td>2</td></tr><tr><td>818018</td><td>N-2018-423</td><td>Suo</td><td>2011</td><td>2017</td><td>63558</td><td>2</td></tr><tr><td>1696706</td><td>N-2018-752</td><td>Valkoinen perhonen</td><td>2004</td><td>2017</td><td>67014</td><td>2</td></tr><tr><td>1795481</td><td>N-2019-254</td><td>Ateljeenäkymä 2</td><td>2019</td><td>2019</td><td>169239</td><td>2</td></tr><tr><td>1795481</td><td>N-2019-254</td><td>Ateljeenäkymä 2</td><td>2019</td><td>2019</td><td>169239</td><td>2</td></tr><tr><td>2277331</td><td>N-2021-25</td><td>Kakssataa kilsaa</td><td>2018</td><td>2021</td><td>68124</td><td>2</td></tr><tr><td>5689137</td><td>N-2023-311:A-D</td><td>Naiset & lapset</td><td>2022</td><td>2023</td><td>1389032</td><td>2</td></tr><tr><td>378807</td><td>N-2007-2</td><td>Kultainen kädenpuristus</td><td>2006</td><td>2007</td><td>66455</td><td>2</td></tr><tr><td>378807</td><td>N-2007-2</td><td>Kultainen kädenpuristus</td><td>2006</td><td>2007</td><td>66455</td><td>2</td></tr><tr><td>391854</td><td>N-1991-347:60</td><td>Economia alla specchio</td><td>null</td><td>1990</td><td>67773</td><td>2</td></tr><tr><td>401812</td><td>N-2010-52</td><td>Tatuointi, Nea Zoi, Romanimatkat - Kreikka</td><td>2002</td><td>2010</td><td>71040</td><td>2</td></tr><tr><td>403128</td><td>N-2011-33</td><td>Helsingin mustakirja</td><td>2005</td><td>2011</td><td>60460</td><td>2</td></tr><tr><td>403128</td><td>N-2011-33</td><td>Helsingin mustakirja</td><td>2005</td><td>2011</td><td>60460</td><td>2</td></tr><tr><td>403816</td><td>N-2015-26</td><td>Hyvässä uskossa (Bona Fide)</td><td>1990</td><td>2015</td><td>66251</td><td>2</td></tr><tr><td>408585</td><td>N-2013-4:4</td><td></td><td>2012</td><td>2013</td><td>70490</td><td>2</td></tr><tr><td>410434</td><td>N-2014-1:13</td><td>Kävelen 17 000 askelta Pekingin Marco Polon sillalla</td><td>2013</td><td>2014</td><td>67567</td><td>2</td></tr><tr><td>414956</td><td>N-2015-180:A-C</td><td></td><td>2015</td><td>2015</td><td>72138</td><td>2</td></tr><tr><td>414956</td><td>N-2015-180:A-C</td><td></td><td>2015</td><td>2015</td><td>72138</td><td>2</td></tr><tr><td>414956</td><td>N-2015-180:A-C</td><td></td><td>2015</td><td>2015</td><td>72138</td><td>2</td></tr><tr><td>431144</td><td>N-2016-1009</td><td></td><td>2016</td><td>2016</td><td>61447</td><td>2</td></tr><tr><td>503681</td><td>A V 4907: A - B</td><td>Nousuvesi</td><td>1989</td><td>1989</td><td>64696</td><td>2</td></tr><tr><td>579370</td><td>B II 948</td><td>Entäpäs jos kuu olisi musta</td><td>1988</td><td>1989</td><td>68475</td><td>2</td></tr><tr><td>585997</td><td>N-1991-89:10</td><td>Punainen sampo: Olet nyt tässä I (Ensimmäinen oppitunti)</td><td>1985</td><td>1991</td><td>61005</td><td>2</td></tr><tr><td>585997</td><td>N-1991-89:10</td><td>Punainen sampo: Olet nyt tässä I (Ensimmäinen oppitunti)</td><td>1985</td><td>1991</td><td>61757</td><td>2</td></tr><tr><td>585997</td><td>N-1991-89:10</td><td>Punainen sampo: Olet nyt tässä I (Ensimmäinen oppitunti)</td><td>1985</td><td>1991</td><td>63721</td><td>2</td></tr><tr><td>585997</td><td>N-1991-89:10</td><td>Punainen sampo: Olet nyt tässä I (Ensimmäinen oppitunti)</td><td>1985</td><td>1991</td><td>65003</td><td>2</td></tr><tr><td>585997</td><td>N-1991-89:10</td><td>Punainen sampo: Olet nyt tässä I (Ensimmäinen oppitunti)</td><td>1985</td><td>1991</td><td>67781</td><td>2</td></tr><tr><td>585997</td><td>N-1991-89:10</td><td>Punainen sampo: Olet nyt tässä I (Ensimmäinen oppitunti)</td><td>1985</td><td>1991</td><td>68999</td><td>2</td></tr><tr><td>588524</td><td>N-1999-1467</td><td>Poro (Poron raato)</td><td>1969</td><td>1999</td><td>65889</td><td>2</td></tr><tr><td>593044</td><td>C VI 2566</td><td>Avaruuskirja</td><td>1988</td><td>1988</td><td>61527</td><td>2</td></tr><tr><td>593809</td><td>N-1995-150</td><td>Veden jumalatar, Uusi Seelanti</td><td>1994</td><td>1995</td><td>67490</td><td>2</td></tr><tr><td>594400</td><td>N-1992-8</td><td>Kappelit</td><td>1991</td><td>null</td><td>62821</td><td>2</td></tr><tr><td>595744</td><td>N-1992-36:A-B</td><td>Veljekset</td><td>1991</td><td>1992</td><td>60823</td><td>2</td></tr><tr><td>254360</td><td>41.162.189</td><td>Terracotta neck-amphora (jar)</td><td>null</td><td>1941</td><td>16371</td><td>4</td></tr><tr><td>254361</td><td>41.162.190</td><td>Neck-amphora</td><td>null</td><td>1941</td><td>4908</td><td>4</td></tr><tr><td>254363</td><td>41.162.192</td><td>Lekythos</td><td>null</td><td>1941</td><td>4909</td><td>4</td></tr><tr><td>254364</td><td>41.162.193</td><td>Terracotta neck-amphora (jar) with Herakles and a bull</td><td>null</td><td>1941</td><td>null</td><td>4</td></tr><tr><td>254365</td><td>41.162.194</td><td>Aryballos in the form of a foot</td><td>null</td><td>1941</td><td>null</td><td>4</td></tr><tr><td>254366</td><td>41.162.195</td><td>Terracotta aryballos (perfume vase) in the form of a sandaled left foot</td><td>null</td><td>1941</td><td>null</td><td>4</td></tr><tr><td>254367</td><td>41.162.196</td><td>Calyx-krater, toy</td><td>null</td><td>1941</td><td>null</td><td>4</td></tr><tr><td>254368</td><td>41.162.197</td><td>Lekythos</td><td>null</td><td>1941</td><td>4936</td><td>4</td></tr><tr><td>254369</td><td>41.162.198</td><td>Terracotta vase in the form of two cockle shells</td><td>null</td><td>1941</td><td>null</td><td>4</td></tr><tr><td>254370</td><td>41.162.199</td><td>Terracotta vase in the form of a rooster</td><td>null</td><td>1941</td><td>null</td><td>4</td></tr><tr><td>254371</td><td>41.162.200</td><td>Jug in the form of a bull</td><td>null</td><td>1941</td><td>null</td><td>4</td></tr><tr><td>254372</td><td>41.162.201</td><td>Squat lekythos</td><td>null</td><td>1941</td><td>null</td><td>4</td></tr><tr><td>254373</td><td>41.162.202</td><td>Lekythos</td><td>null</td><td>1941</td><td>null</td><td>4</td></tr><tr><td>254374</td><td>41.162.203</td><td>Terracotta squat lekythos (oil flask)</td><td>null</td><td>1941</td><td>null</td><td>4</td></tr><tr><td>254375</td><td>41.162.204</td><td>Skyphos, miniature</td><td>null</td><td>1941</td><td>null</td><td>4</td></tr><tr><td>254376</td><td>41.162.205</td><td>Squat lekythos, miniature</td><td>null</td><td>1941</td><td>null</td><td>4</td></tr><tr><td>254377</td><td>41.162.206</td><td>Terracotta lekythos (oil flask)</td><td>null</td><td>1941</td><td>null</td><td>4</td></tr><tr><td>254378</td><td>41.162.207</td><td>Lekythos</td><td>null</td><td>1941</td><td>4908</td><td>4</td></tr><tr><td>254379</td><td>41.162.208a, b</td><td>Plemochoe with lid</td><td>null</td><td>1941</td><td>4909</td><td>4</td></tr><tr><td>254380</td><td>41.162.209</td><td>Oinochoe</td><td>null</td><td>1941</td><td>4936</td><td>4</td></tr><tr><td>254382</td><td>41.162.211</td><td>Terracotta kylix (drinking cup)</td><td>null</td><td>1941</td><td>null</td><td>4</td></tr><tr><td>254383</td><td>41.162.212</td><td>Terracotta neck-amphora (jar)</td><td>null</td><td>1941</td><td>null</td><td>4</td></tr><tr><td>254384</td><td>41.162.213</td><td>Hydria</td><td>null</td><td>1941</td><td>null</td><td>4</td></tr><tr><td>254385</td><td>41.162.214</td><td>Alabastron</td><td>null</td><td>1941</td><td>null</td><td>4</td></tr><tr><td>254386</td><td>41.162.215</td><td>Squat lekythos</td><td>null</td><td>1941</td><td>4936</td><td>4</td></tr><tr><td>254387</td><td>41.162.216</td><td>Squat lekythos</td><td>null</td><td>1941</td><td>null</td><td>4</td></tr><tr><td>254388</td><td>41.162.217</td><td>Lekythos</td><td>null</td><td>1941</td><td>4908</td><td>4</td></tr><tr><td>254389</td><td>41.162.218</td><td>Alabastron</td><td>null</td><td>1941</td><td>null</td><td>4</td></tr><tr><td>254390</td><td>41.162.219</td><td>Skyphos</td><td>null</td><td>1941</td><td>null</td><td>4</td></tr><tr><td>254391</td><td>41.162.220</td><td>Skyphos, Pistian</td><td>null</td><td>1941</td><td>490844936</td><td>4</td></tr><tr><td>254392</td><td>41.162.221</td><td>Squat lekythos</td><td>null</td><td>1941</td><td>null</td><td>4</td></tr><tr><td>254393</td><td>41.162.222</td><td>Kylix</td><td>null</td><td>1941</td><td>null</td><td>4</td></tr><tr><td>254394</td><td>41.162.223</td><td>Terracotta stemless kylix (drinking cup)</td><td>null</td><td>1941</td><td>null</td><td>4</td></tr><tr><td>254395</td><td>41.162.224</td><td>Terracotta miniature hydria: kalpis (water jar)</td><td>null</td><td>1941</td><td>null</td><td>4</td></tr><tr><td>254396</td><td>41.162.225</td><td>Terracotta lekythos (oil flask) with a bird</td><td>null</td><td>1941</td><td>null</td><td>4</td></tr><tr><td>254397</td><td>41.162.226</td><td>Lekythos</td><td>null</td><td>1941</td><td>4908</td><td>4</td></tr><tr><td>254398</td><td>41.162.227</td><td>Terracotta lekythos (oil flask)</td><td>null</td><td>1941</td><td>null</td><td>4</td></tr><tr><td>254399</td><td>41.162.228</td><td>Skyphos</td><td>null</td><td>1941</td><td>null</td><td>4</td></tr><tr><td>254400</td><td>41.162.229</td><td>Bell-krater</td><td>null</td><td>1941</td><td>null</td><td>4</td></tr><tr><td>254401</td><td>41.162.230</td><td>Oinochoe</td><td>null</td><td>1941</td><td>4908</td><td>4</td></tr><tr><td>254402</td><td>41.162.231</td><td>Terracotta guttus (flask with handle and vertical spout)</td><td>null</td><td>1941</td><td>null</td><td>4</td></tr><tr><td>254403</td><td>41.162.232</td><td>Kylix</td><td>null</td><td>1941</td><td>4908</td><td>4</td></tr><tr><td>254404</td><td>41.162.233</td><td>Terracotta kantharos (drinking cup) with vertical ring handles</td><td>null</td><td>1941</td><td>null</td><td>4</td></tr><tr><td>254405</td><td>41.162.234</td><td>Terracotta hydria: kalpis (water jar)</td><td>null</td><td>1941</td><td>4936</td><td>4</td></tr><tr><td>254406</td><td>41.162.235</td><td>Terracotta toy lekythos (oil flask) with a swan</td><td>null</td><td>1941</td><td>null</td><td>4</td></tr><tr><td>254407</td><td>41.162.236</td><td>Lekythos</td><td>null</td><td>1941</td><td>4908</td><td>4</td></tr><tr><td>254408</td><td>41.162.237</td><td>Terracotta lekythos (oil flask)</td><td>null</td><td>1941</td><td>null</td><td>4</td></tr><tr><td>254409</td><td>41.162.238</td><td>Terracotta squat lekythos (oil flask)</td><td>null</td><td>1941</td><td>null</td><td>4</td></tr><tr><td>254410</td><td>41.162.239</td><td>Neck-amphora</td><td>null</td><td>1941</td><td>4936</td><td>4</td></tr><tr><td>254411</td><td>41.162.240</td><td>Lekythos</td><td>null</td><td>1941</td><td>4908</td><td>4</td></tr><tr><td>254412</td><td>41.162.241</td><td>Terracotta kylix (drinking cup)</td><td>null</td><td>1941</td><td>null</td><td>4</td></tr><tr><td>254413</td><td>41.162.242</td><td>Kylix</td><td>null</td><td>1941</td><td>null</td><td>4</td></tr><tr><td>254414</td><td>41.162.243</td><td>Oinochoe</td><td>null</td><td>1941</td><td>4898</td><td>4</td></tr><tr><td>254415</td><td>41.162.244</td><td>Terracotta mug</td><td>null</td><td>1941</td><td>null</td><td>4</td></tr><tr><td>254416</td><td>41.162.245</td><td>Lekythos</td><td>null</td><td>1941</td><td>null</td><td>4</td></tr><tr><td>254417</td><td>41.162.246</td><td>Terracotta stemmed calyx</td><td>null</td><td>1941</td><td>null</td><td>4</td></tr><tr><td>254418</td><td>41.162.247</td><td>Terracotta stemmed dish</td><td>null</td><td>1941</td><td>null</td><td>4</td></tr><tr><td>254419</td><td>41.162.248</td><td>Lekythos</td><td>null</td><td>1941</td><td>4909</td><td>4</td></tr><tr><td>254420</td><td>41.162.249</td><td>Terracotta rhyton (vase for libations or drinking)</td><td>null</td><td>1941</td><td>null</td><td>4</td></tr><tr><td>254421</td><td>41.162.250</td><td>Kylix, stemless</td><td>null</td><td>1941</td><td>null</td><td>4</td></tr><tr><td>254422</td><td>41.162.251</td><td>Amphora, miniature</td><td>null</td><td>1941</td><td>null</td><td>4</td></tr><tr><td>254423</td><td>41.162.252</td><td>Lekythos</td><td>null</td><td>1941</td><td>null</td><td>4</td></tr><tr><td>254424</td><td>41.162.253</td><td>Terracotta oinochoe (jug)</td><td>null</td><td>1941</td><td>4899</td><td>4</td></tr><tr><td>254425</td><td>41.162.254</td><td>Lekythos</td><td>null</td><td>1941</td><td>4900</td><td>4</td></tr><tr><td>254426</td><td>41.162.255</td><td>Terracotta lekythos (oil flask)</td><td>null</td><td>1941</td><td>5301</td><td>4</td></tr><tr><td>254427</td><td>41.162.256</td><td>Lekythos</td><td>null</td><td>1941</td><td>4909</td><td>4</td></tr><tr><td>254428</td><td>41.162.257</td><td>Plemochoe</td><td>null</td><td>1941</td><td>4909</td><td>4</td></tr><tr><td>254429</td><td>41.162.258</td><td>Terracotta stemmed dish</td><td>null</td><td>1941</td><td>null</td><td>4</td></tr></tbody></table></div>"
      ]
     },
     "metadata": {
      "application/vnd.databricks.v1+output": {
       "addedWidgets": {},
       "aggData": [],
       "aggError": "",
       "aggOverflow": false,
       "aggSchema": [],
       "aggSeriesLimitReached": false,
       "aggType": "",
       "arguments": {},
       "columnCustomDisplayInfos": {},
       "data": [
        [
         378978,
         "A I 457:234",
         "Vänrikin markkinamuisto. Kuvitusta Vänrikki Stålin tarinoihin",
         1869,
         1873,
         "69483",
         1
        ],
        [
         381328,
         "RAMSAY 585",
         "Marion",
         null,
         1919,
         "65664",
         1
        ],
        [
         381635,
         "A I 457:250",
         "Kuoleva soturi. Kuvitusta Vänrikki Stålin tarinoihin",
         1869,
         1873,
         "69483",
         1
        ],
        [
         382297,
         "A I 457:189",
         "Näkymä italialaisesta merenpoukamassa olevasta kaupungista, taustalla tulivuori",
         null,
         1873,
         "69483",
         1
        ],
        [
         383944,
         "A-2006-111",
         "Vihreä Pariisi",
         2006,
         2006,
         "63062",
         1
        ],
        [
         385746,
         "A I 472:54",
         "Seitsemän rokokoo-ornamenttia",
         1860,
         1890,
         "60711",
         1
        ],
        [
         385804,
         "A-2008-163",
         "Harjalintu",
         1979,
         2008,
         "70182",
         1
        ],
        [
         387171,
         "A I 471:52",
         "Pilvinen taivas, harjoitelma",
         1855,
         1890,
         "60711",
         1
        ],
        [
         389036,
         "A I 51",
         "Rekolankoski Jämsässä",
         1869,
         1872,
         "60025",
         1
        ],
        [
         392019,
         "A I 606:6",
         "lehtimetsäympäristö",
         null,
         1896,
         "68727",
         1
        ],
        [
         392145,
         "A I 75",
         "Kerjäläispojat pelaavat nopilla, kopio Murillon mukaan",
         1866,
         1866,
         "66965",
         1
        ],
        [
         393373,
         "A I 754:179",
         "\"Poika kulta, mieles malta\". Vänrikki Stoolin tarinain kuvitusta",
         1900,
         1903,
         "70301",
         1
        ],
        [
         393485,
         "A I 52",
         "Kehräävä eukko",
         1846,
         1865,
         "59563",
         1
        ],
        [
         393724,
         "A II 1195",
         "Sisäkuva Finströmin kirkosta",
         1871,
         1874,
         "64032",
         1
        ],
        [
         393787,
         "A-2008-497",
         "Pas de deux",
         1952,
         2008,
         "66635",
         1
        ],
        [
         394150,
         "A-2008-491:3",
         "Mies ja sateenvarjo",
         1969,
         2008,
         "67483",
         1
        ],
        [
         394967,
         "A II 1113",
         "Koivuharjoitelma",
         1900,
         1916,
         "68825",
         1
        ],
        [
         396104,
         "A II 1070",
         "Pinier i St. Tropez, Frankrike",
         null,
         1915,
         "61635",
         1
        ],
        [
         396679,
         "A II 1711",
         "Ruotsalaista sadonkorjuuväkeä veneessä",
         1855,
         1928,
         "69483",
         1
        ],
        [
         397183,
         "A IV 4038",
         "Maisema",
         1972,
         1972,
         "61822",
         1
        ],
        [
         397387,
         "A-2008-436:1",
         "Danza Minima I (kuva V)",
         1973,
         2008,
         "61333",
         1
        ],
        [
         398100,
         "A II 841:307 A, B, C",
         "Näyttelijät Kawarazaki Gonjuro, Nakamura Shikan, Sawamura Tanosuke ja Ichimura Uzaemon näytelmässä Cho no harutoki eno saya-ate (Riitapukareiden kaksintaistelu)",
         1861,
         1908,
         "59812",
         1
        ],
        [
         398447,
         "A I 637:2/10",
         "Miekkoja teroitetaan",
         1854,
         1899,
         "60025",
         1
        ],
        [
         398836,
         "N-2015-94",
         "Hakalan riihi, Sysmä",
         1976,
         2015,
         "68801",
         1
        ],
        [
         400495,
         "A-2010-157",
         "Kukkatutkielma",
         2008,
         2010,
         "69550",
         1
        ],
        [
         400885,
         "A-2016-468",
         "Valo vastarannalla",
         1981,
         null,
         "62339",
         1
        ],
        [
         402036,
         "C III B II 177:201",
         "La Journée du Poilu 31 Octobre 1er Novembre (juliste)",
         1918,
         1920,
         "59651",
         1
        ],
        [
         402036,
         "C III B II 177:201",
         "La Journée du Poilu 31 Octobre 1er Novembre (juliste)",
         1918,
         1920,
         "60969",
         1
        ],
        [
         402132,
         "A-2010-192",
         "Pierrot (Pajatson prologi)",
         1947,
         2010,
         "66065",
         1
        ],
        [
         402550,
         "A-2011-430",
         "Laskostettu kangas tuolin päällä",
         1877,
         2011,
         "67630",
         1
        ],
        [
         406186,
         "A V 4966:26",
         "Luonnoskirja",
         null,
         1988,
         "66551",
         1
        ],
        [
         406722,
         "A-2016-185",
         "Asetelma",
         2010,
         null,
         "62935",
         1
        ],
        [
         407327,
         "A-2011-399:2",
         "Viimeinen ilta",
         1966,
         null,
         "63007",
         1
        ],
        [
         407815,
         "A-2011-328",
         "Parrakkaan miehen pää, veistoksen mukaan",
         1878,
         2011,
         "67630",
         1
        ],
        [
         410122,
         "A II 1654",
         "Maisema Pohjanmaalta",
         1921,
         1926,
         "60597",
         1
        ],
        [
         411560,
         "N-2014-100",
         "Kasvu II",
         1990,
         2014,
         "60134",
         1
        ],
        [
         412114,
         "A II 1608:118",
         "Lähteellä",
         null,
         1926,
         "71122",
         1
        ],
        [
         413985,
         "A-2013-309:915",
         "Sininen kortteli",
         1964,
         2013,
         "65476",
         1
        ],
        [
         414635,
         "A-2016-517",
         "Reuna",
         1992,
         null,
         "62935",
         1
        ],
        [
         415064,
         "A-2013-309:60",
         "Vedennoutajia",
         1943,
         2013,
         "65476",
         1
        ],
        [
         415095,
         "C III B II 245:52",
         "Bomarsund ja Skarpansin linnoitetut kasarmit, kuvitusta teokseen Finland framställdt i teckningar, vihkot XVIII ja XIX",
         1848,
         null,
         "60025",
         1
        ],
        [
         415290,
         "A II 841:198",
         "Näyttelijä Ichikawa Danjuro VIII neljässä roolihahmossa: Sukeroku, Mitsu-uji, Kasugaya Tokikuro ja Watonai",
         1854,
         1908,
         "59812",
         1
        ],
        [
         415530,
         "A II 962:1",
         "Katolinen pappi",
         1912,
         1912,
         "70681",
         1
        ],
        [
         416250,
         "C III B II 245:45",
         "Tuovilanlahti, kuvitusta teokseen Finland framställdt i teckningar, vihko XV",
         1847,
         null,
         "63677",
         1
        ],
        [
         416905,
         "C III B II 245:54",
         "Prästön sotilassairaala, kuvitusta teokseen Finland framställdt i teckningar, vihkot XVIII ja XIX",
         1848,
         null,
         "60025",
         1
        ],
        [
         417266,
         "A-2013-309:379",
         "Albergo Rufolo III",
         1953,
         2013,
         "65476",
         1
        ],
        [
         418470,
         "A-2016-118",
         "Croquis",
         null,
         null,
         "64787",
         1
        ],
        [
         419399,
         "A-2013-309:800",
         "Mykonos",
         1961,
         2013,
         "65476",
         1
        ],
        [
         419587,
         "A-2013-309:691",
         "Jääpalloilijat",
         1959,
         2013,
         "65476",
         1
        ],
        [
         420266,
         "A-2013-309:734",
         "Nunna ja kaksi aasia",
         1961,
         2013,
         "65476",
         1
        ],
        [
         420663,
         "A-2013-309:976",
         "Suon usvaa (sarjasta Toiset maailmat)",
         1966,
         null,
         "65476",
         1
        ],
        [
         421752,
         "A-2013-309:954",
         "Savupilvi",
         1966,
         2013,
         "65476",
         1
        ],
        [
         422213,
         "A-2016-111",
         "Täydenkuun tanssi",
         2000,
         null,
         "65380",
         1
        ],
        [
         422670,
         "A-2016-174",
         "Lauttasaari",
         1989,
         null,
         "67301",
         1
        ],
        [
         422741,
         "A-2013-309:862",
         "Lähde",
         1963,
         2013,
         "65476",
         1
        ],
        [
         423455,
         "A-2013-309:484",
         "Nizza",
         1955,
         2013,
         "65476",
         1
        ],
        [
         423657,
         "A II 985:89",
         "Viisi karrikoitua muotoharjoitelmaa",
         null,
         1913,
         "70994",
         1
        ],
        [
         423831,
         "A III 2281:193",
         "Poika",
         1888,
         1938,
         "65841",
         1
        ],
        [
         423898,
         "A III 2281:94",
         "Nainen lapsi sylissään",
         1857,
         1938,
         "65841",
         1
        ],
        [
         423984,
         "A II 1669:2 / 17",
         "Tanssijatar, Mies historiallisessa asussa",
         null,
         null,
         "70762",
         1
        ],
        [
         425484,
         "A III 2281:458",
         "Mailaa pitelevä mies takaapäin",
         null,
         1938,
         "65841",
         1
        ],
        [
         425870,
         "A-2016-1039",
         "Croquis, istuva mies",
         1993,
         null,
         "64787",
         1
        ],
        [
         425984,
         "A-2016-402",
         "Hiljaisuus",
         1990,
         null,
         "61822",
         1
        ],
        [
         426060,
         "A-2013-309:1276",
         "Sirkus - Kolme luonnosta",
         1981,
         2013,
         "65476",
         1
        ],
        [
         426316,
         "A-2013-309:1138",
         "El Torero (Corrida)",
         1951,
         2013,
         "65476",
         1
        ],
        [
         426500,
         "A-2017-151",
         "Alaston naisfiguuri, harjoitelma",
         1936,
         2015,
         "68685",
         1
        ],
        [
         427066,
         "A-2016-249",
         "Kutoja",
         1946,
         null,
         "60707",
         1
        ],
        [
         427153,
         "A-2016-421",
         "Sieni",
         1992,
         null,
         "61822",
         1
        ],
        [
         427582,
         "A-2012-318",
         "Busoni",
         1937,
         2012,
         "61165",
         1
        ],
        [
         427723,
         "A II 1517:58 / 42",
         "Naisten kasvoja",
         null,
         null,
         "70301",
         1
        ],
        [
         428034,
         "A II 1517:60 / 60",
         null,
         null,
         null,
         "70301",
         1
        ],
        [
         429316,
         "A II 1517:75 / 143",
         null,
         null,
         null,
         "70301",
         1
        ],
        [
         431560,
         "A-2016-988",
         "Croquis, istuva mies",
         1994,
         null,
         "64787",
         1
        ],
        [
         431578,
         "A III 1950:13",
         "\"Nummisuutarien\" kuvitusta 1923, painamaton luonnos sivun 35 kuvaan, Sepeteus ja Topias",
         1923,
         1935,
         "65290",
         1
        ],
        [
         432217,
         "A-2017-88",
         "Tiikerit leikkivät",
         2000,
         2017,
         "63759",
         1
        ],
        [
         432734,
         "A III 1762",
         "Anna-Liisa, mallitutkielma",
         1901,
         1930,
         "68531",
         1
        ],
        [
         432799,
         "A II 1517:89 / 103",
         null,
         null,
         null,
         "70301",
         1
        ],
        [
         433512,
         "A II 1517:84 / 82",
         null,
         null,
         null,
         "70301",
         1
        ],
        [
         433605,
         "A-1993-80 / 142",
         null,
         1920,
         null,
         "61165",
         1
        ],
        [
         434012,
         "A II 1517:61 / 68",
         null,
         null,
         null,
         "70301",
         1
        ],
        [
         435582,
         "A II 1669:3 / 223",
         null,
         null,
         null,
         "70762",
         1
        ],
        [
         436511,
         "A II 1517:61 / 93",
         null,
         null,
         null,
         "70301",
         1
        ],
        [
         436731,
         "A III 2028:249",
         "Luutnantti Ziden, luonnos Vänrikki Stoolin tarinain kuvitukseen",
         null,
         1935,
         "70301",
         1
        ],
        [
         438374,
         "A III 2028:296",
         "Jumalanpalvelus Uudenmaan saaristossa, luonnos",
         null,
         1935,
         "70301",
         1
        ],
        [
         439190,
         "A-1993-65 / 71",
         "Alastonmalli. Todennäköisesti n. 1908-09.",
         1909,
         null,
         "61165",
         1
        ],
        [
         439521,
         "A II 1517:75 / 31",
         null,
         null,
         null,
         "70301",
         1
        ],
        [
         439720,
         "A II 1517:93 / 6",
         null,
         null,
         null,
         "70301",
         1
        ],
        [
         440105,
         "A II 1517:79 / 16",
         "Lapsia, luonnos teokseen Pariisin Luxembourgin puistossa",
         null,
         null,
         "70301",
         1
        ],
        [
         440710,
         "A III 2281:139",
         "Heinola",
         1857,
         1938,
         "65841",
         1
        ],
        [
         441764,
         "A II 1517:17 / 30",
         null,
         null,
         null,
         "70301",
         1
        ],
        [
         441873,
         "A III 2131:31",
         "Sivukuva myssypäisestä vanhasta naisesta",
         null,
         1936,
         "67438",
         1
        ],
        [
         442069,
         "A II 1517:58 / 105",
         "Miehen kasvoja",
         null,
         null,
         "70301",
         1
        ],
        [
         442582,
         "A III 2199",
         "Kaupunkikuva talvella",
         1914,
         1937,
         "65139",
         1
        ],
        [
         442867,
         "A III 2127",
         "Nukkuva",
         1925,
         1936,
         "70953",
         1
        ],
        [
         443244,
         "A II 1517:17 / 12",
         null,
         null,
         null,
         "70301",
         1
        ],
        [
         443516,
         "A III 2107:4",
         "Pierrot",
         1911,
         1936,
         "66134",
         1
        ],
        [
         443838,
         "A II 1517:80 / 40",
         null,
         null,
         null,
         "70301",
         1
        ],
        [
         444328,
         "A II 1517:46 / 52",
         "Rantamaisema",
         1878,
         null,
         "70301",
         1
        ],
        [
         445562,
         "A III 2281:341",
         "Faster Uggla ja moster Carin käsitöineen",
         1857,
         1938,
         "65841",
         1
        ],
        [
         448490,
         "A II 1517:66 / 87",
         null,
         null,
         null,
         "70301",
         1
        ],
        [
         385238,
         "N-1999-1040",
         "nimetön",
         1967,
         1999,
         "65889",
         2
        ],
        [
         395524,
         "N-1999-1058",
         "nimetön ; nimetön (kaksipuolinen teos)",
         null,
         1999,
         "65889",
         2
        ],
        [
         398464,
         "N-2008-88:13",
         "Being there",
         2007,
         2008,
         "63267",
         2
        ],
        [
         399744,
         "N-2010-6",
         "Puu",
         2009,
         2010,
         "60445",
         2
        ],
        [
         403617,
         "N-2012-22",
         "Provinssi sarjasta Nuoret sankarit",
         1996,
         2012,
         "59778",
         2
        ],
        [
         404803,
         "N-2011-143:5",
         "",
         2011,
         2011,
         "63354",
         2
        ],
        [
         408988,
         "N-2013-23:2",
         "",
         2012,
         2013,
         "61117",
         2
        ],
        [
         408988,
         "N-2013-23:2",
         "",
         2012,
         2013,
         "63237",
         2
        ],
        [
         410341,
         "N-2013-217",
         "Salaisuuteni, osa kolme: Tuntemattoman taiteilijan hauta",
         2008,
         2013,
         "63595",
         2
        ],
        [
         411318,
         "N-2012-46",
         "Virnistys 2",
         2011,
         2012,
         "68977",
         2
        ],
        [
         416311,
         "N-2015-245:A-C",
         "Oikea/riitti-asetelmia",
         2013,
         2015,
         "62730",
         2
        ],
        [
         416311,
         "N-2015-245:A-C",
         "Oikea/riitti-asetelmia",
         2013,
         2015,
         "62730",
         2
        ],
        [
         418318,
         "N-2015-196:1",
         "Setelisarja: Väinö Linna",
         2015,
         2015,
         "66458",
         2
        ],
        [
         569581,
         "C VI 2432",
         "Uhriteltta",
         1984,
         1985,
         "62821",
         2
        ],
        [
         571648,
         "C V 1953",
         "Päitä",
         1974,
         1975,
         "60875",
         2
        ],
        [
         573405,
         "C V 1954",
         "Kerjäläinen",
         1974,
         1975,
         "60875",
         2
        ],
        [
         578646,
         "C V 1844",
         "Kaksi ulottuvuutta II",
         1972,
         1974,
         "69952",
         2
        ],
        [
         583189,
         "B II 931",
         "Saarivaltakunnan salaisuus",
         1983,
         1988,
         "67045",
         2
        ],
        [
         584185,
         "C VI 2541",
         "Ihmisen paras ystävä",
         1987,
         1987,
         "63817",
         2
        ],
        [
         589723,
         "N-1993-250:16",
         "Nimetön",
         1993,
         1993,
         "60844",
         2
        ],
        [
         589919,
         "N-1999-1286",
         "nimetön (maisema)",
         null,
         1999,
         "65889",
         2
        ],
        [
         594339,
         "N-1999-210:2",
         "Myrkyllisiä huuruja",
         1969,
         1999,
         "65889",
         2
        ],
        [
         594694,
         "N-1991-113",
         "Sarjasta suomalaisia intiaaneja",
         1990,
         1991,
         "68316",
         2
        ],
        [
         594958,
         "N-1993-26:5",
         "Laika-koira opastaa taiteen avaruuteen: Muinaisen Egyptin kuvanveisto",
         1985,
         1993,
         "59520",
         2
        ],
        [
         595082,
         "N-1992-98",
         "Sarjasta Tuoli nro 9853",
         1992,
         null,
         "70951",
         2
        ],
        [
         595322,
         "N-1993-249",
         "Dance all the Drums in your Body",
         1990,
         1993,
         "62955",
         2
        ],
        [
         595479,
         "N-1995-188",
         "Ajanta",
         1995,
         1995,
         "66251",
         2
        ],
        [
         597170,
         "N-1991-347:52",
         "Ex libris Jaakko Hemmi",
         1989,
         1990,
         "60396",
         2
        ],
        [
         597378,
         "N-1991-157",
         "Baldessari Sings Lewitt",
         1972,
         1991,
         "70916",
         2
        ],
        [
         597378,
         "N-1991-157",
         "Baldessari Sings Lewitt",
         1972,
         1991,
         "70916",
         2
        ],
        [
         597512,
         "N-1999-1345",
         "Aikakone",
         null,
         1999,
         "65889",
         2
        ],
        [
         598496,
         "N-1991-168",
         "Itärannikko länsirannikko",
         1969,
         1991,
         "64234",
         2
        ],
        [
         598496,
         "N-1991-168",
         "Itärannikko länsirannikko",
         1969,
         1991,
         "64234",
         2
        ],
        [
         598496,
         "N-1991-168",
         "Itärannikko länsirannikko",
         1969,
         1991,
         "68162",
         2
        ],
        [
         598496,
         "N-1991-168",
         "Itärannikko länsirannikko",
         1969,
         1991,
         "68162",
         2
        ],
        [
         600021,
         "N-2001-17",
         "Teltta",
         1995,
         2001,
         "63774",
         2
        ],
        [
         600021,
         "N-2001-17",
         "Teltta",
         1995,
         2001,
         "64278",
         2
        ],
        [
         600671,
         "N-1999-1736",
         "nimetön",
         1973,
         1999,
         "65889",
         2
        ],
        [
         600750,
         "N-1999-1680",
         "nimetön (maisema)",
         1968,
         1999,
         "65889",
         2
        ],
        [
         601209,
         "N-1999-1161",
         "Vastanaineet Im memoriam",
         1972,
         1999,
         "65889",
         2
        ],
        [
         601586,
         "N-1999-1677",
         "nimetön",
         1968,
         1999,
         "65889",
         2
        ],
        [
         602627,
         "N-1999-1702:1",
         "nimetön (luonnos)",
         null,
         1999,
         "65889",
         2
        ],
        [
         603953,
         "N-1999-206",
         "nimetön",
         null,
         1999,
         "65889",
         2
        ],
        [
         604027,
         "N-1999-2426",
         "nimetön ; luonnos",
         null,
         1999,
         "65889",
         2
        ],
        [
         604649,
         "N-1999-2379:11",
         "nimetön ; alastonmalliharjoitelma",
         null,
         1999,
         "65889",
         2
        ],
        [
         604738,
         "N-1999-217",
         "nimetön",
         null,
         1999,
         "65889",
         2
        ],
        [
         605960,
         "N-1997-110",
         "Sarjasta Omakuvia: Vuosi 1967 / Unelma / Neitsytmorsian",
         1995,
         1997,
         "62627",
         2
        ],
        [
         606404,
         "N-1997-63",
         "Näitä aikoja II",
         1983,
         1997,
         "60894",
         2
        ],
        [
         606956,
         "N-2001-24:B",
         "Sarjasta \"Kannu\"",
         1973,
         2001,
         "65889",
         2
        ],
        [
         607151,
         "N-1999-2400",
         "nimetön ; luonnos",
         1974,
         1999,
         "65889",
         2
        ],
        [
         608018,
         "N-1999-2107",
         "nimetön (maisema)",
         null,
         1999,
         "65889",
         2
        ],
        [
         608610,
         "N-1999-70:1",
         "Sarjasta Puny-rääpäle",
         1999,
         1999,
         "60019",
         2
        ],
        [
         609101,
         "N-1999-2617:61",
         "nimetön ; luonnos",
         1973,
         1999,
         "65889",
         2
        ],
        [
         609124,
         "N-1999-2617:34",
         "nimetön ; luonnos",
         null,
         1999,
         "65889",
         2
        ],
        [
         610715,
         "N-1999-393",
         "nimetön (Stalin)",
         1975,
         1999,
         "65889",
         2
        ],
        [
         611670,
         "N-1999-543:3",
         "nimetön",
         null,
         1999,
         "65889",
         2
        ],
        [
         613339,
         "N-1999-315",
         "nimetön",
         null,
         1999,
         "65889",
         2
        ],
        [
         613981,
         "N-2001-39",
         "Kadonnut keltaiseen",
         2000,
         null,
         "66235",
         2
        ],
        [
         617951,
         "N-2000-45:A-D",
         "Jälkeen II",
         1999,
         2000,
         "68789",
         2
        ],
        [
         618709,
         "N-2003-877",
         "Kollaasi",
         1989,
         2003,
         "60519",
         2
        ],
        [
         620536,
         "N-2003-45:3",
         "Peltolan tamma",
         1966,
         2003,
         "66904",
         2
        ],
        [
         621167,
         "N-2004-19",
         "Rajamailla",
         2003,
         2004,
         "64700",
         2
        ],
        [
         621167,
         "N-2004-19",
         "Rajamailla",
         2003,
         2004,
         "64700",
         2
        ],
        [
         621167,
         "N-2004-19",
         "Rajamailla",
         2003,
         2004,
         "68291",
         2
        ],
        [
         621167,
         "N-2004-19",
         "Rajamailla",
         2003,
         2004,
         "68291",
         2
        ],
        [
         621485,
         "N-2003-29:5",
         "Sumo-kultti",
         2002,
         2003,
         "60934",
         2
        ],
        [
         626272,
         "N-2005-50:9",
         "Mato maatuma pellosta perunaa, ruokaa, toukokuu 2001",
         2001,
         2005,
         "63080",
         2
        ],
        [
         817394,
         "N-2018-346",
         "Ego ja minuus",
         2011,
         2017,
         "98175",
         2
        ],
        [
         818018,
         "N-2018-423",
         "Suo",
         2011,
         2017,
         "63558",
         2
        ],
        [
         1696706,
         "N-2018-752",
         "Valkoinen perhonen",
         2004,
         2017,
         "67014",
         2
        ],
        [
         1795481,
         "N-2019-254",
         "Ateljeenäkymä 2",
         2019,
         2019,
         "169239",
         2
        ],
        [
         1795481,
         "N-2019-254",
         "Ateljeenäkymä 2",
         2019,
         2019,
         "169239",
         2
        ],
        [
         2277331,
         "N-2021-25",
         "Kakssataa kilsaa",
         2018,
         2021,
         "68124",
         2
        ],
        [
         5689137,
         "N-2023-311:A-D",
         "Naiset & lapset",
         2022,
         2023,
         "1389032",
         2
        ],
        [
         378807,
         "N-2007-2",
         "Kultainen kädenpuristus",
         2006,
         2007,
         "66455",
         2
        ],
        [
         378807,
         "N-2007-2",
         "Kultainen kädenpuristus",
         2006,
         2007,
         "66455",
         2
        ],
        [
         391854,
         "N-1991-347:60",
         "Economia alla specchio",
         null,
         1990,
         "67773",
         2
        ],
        [
         401812,
         "N-2010-52",
         "Tatuointi, Nea Zoi, Romanimatkat - Kreikka",
         2002,
         2010,
         "71040",
         2
        ],
        [
         403128,
         "N-2011-33",
         "Helsingin mustakirja",
         2005,
         2011,
         "60460",
         2
        ],
        [
         403128,
         "N-2011-33",
         "Helsingin mustakirja",
         2005,
         2011,
         "60460",
         2
        ],
        [
         403816,
         "N-2015-26",
         "Hyvässä uskossa (Bona Fide)",
         1990,
         2015,
         "66251",
         2
        ],
        [
         408585,
         "N-2013-4:4",
         "",
         2012,
         2013,
         "70490",
         2
        ],
        [
         410434,
         "N-2014-1:13",
         "Kävelen 17 000 askelta Pekingin Marco Polon sillalla",
         2013,
         2014,
         "67567",
         2
        ],
        [
         414956,
         "N-2015-180:A-C",
         "",
         2015,
         2015,
         "72138",
         2
        ],
        [
         414956,
         "N-2015-180:A-C",
         "",
         2015,
         2015,
         "72138",
         2
        ],
        [
         414956,
         "N-2015-180:A-C",
         "",
         2015,
         2015,
         "72138",
         2
        ],
        [
         431144,
         "N-2016-1009",
         "",
         2016,
         2016,
         "61447",
         2
        ],
        [
         503681,
         "A V 4907: A - B",
         "Nousuvesi",
         1989,
         1989,
         "64696",
         2
        ],
        [
         579370,
         "B II 948",
         "Entäpäs jos kuu olisi musta",
         1988,
         1989,
         "68475",
         2
        ],
        [
         585997,
         "N-1991-89:10",
         "Punainen sampo: Olet nyt tässä I (Ensimmäinen oppitunti)",
         1985,
         1991,
         "61005",
         2
        ],
        [
         585997,
         "N-1991-89:10",
         "Punainen sampo: Olet nyt tässä I (Ensimmäinen oppitunti)",
         1985,
         1991,
         "61757",
         2
        ],
        [
         585997,
         "N-1991-89:10",
         "Punainen sampo: Olet nyt tässä I (Ensimmäinen oppitunti)",
         1985,
         1991,
         "63721",
         2
        ],
        [
         585997,
         "N-1991-89:10",
         "Punainen sampo: Olet nyt tässä I (Ensimmäinen oppitunti)",
         1985,
         1991,
         "65003",
         2
        ],
        [
         585997,
         "N-1991-89:10",
         "Punainen sampo: Olet nyt tässä I (Ensimmäinen oppitunti)",
         1985,
         1991,
         "67781",
         2
        ],
        [
         585997,
         "N-1991-89:10",
         "Punainen sampo: Olet nyt tässä I (Ensimmäinen oppitunti)",
         1985,
         1991,
         "68999",
         2
        ],
        [
         588524,
         "N-1999-1467",
         "Poro (Poron raato)",
         1969,
         1999,
         "65889",
         2
        ],
        [
         593044,
         "C VI 2566",
         "Avaruuskirja",
         1988,
         1988,
         "61527",
         2
        ],
        [
         593809,
         "N-1995-150",
         "Veden jumalatar, Uusi Seelanti",
         1994,
         1995,
         "67490",
         2
        ],
        [
         594400,
         "N-1992-8",
         "Kappelit",
         1991,
         null,
         "62821",
         2
        ],
        [
         595744,
         "N-1992-36:A-B",
         "Veljekset",
         1991,
         1992,
         "60823",
         2
        ],
        [
         254360,
         "41.162.189",
         "Terracotta neck-amphora (jar)",
         null,
         1941,
         "16371",
         4
        ],
        [
         254361,
         "41.162.190",
         "Neck-amphora",
         null,
         1941,
         "4908",
         4
        ],
        [
         254363,
         "41.162.192",
         "Lekythos",
         null,
         1941,
         "4909",
         4
        ],
        [
         254364,
         "41.162.193",
         "Terracotta neck-amphora (jar) with Herakles and a bull",
         null,
         1941,
         null,
         4
        ],
        [
         254365,
         "41.162.194",
         "Aryballos in the form of a foot",
         null,
         1941,
         null,
         4
        ],
        [
         254366,
         "41.162.195",
         "Terracotta aryballos (perfume vase) in the form of a sandaled left foot",
         null,
         1941,
         null,
         4
        ],
        [
         254367,
         "41.162.196",
         "Calyx-krater, toy",
         null,
         1941,
         null,
         4
        ],
        [
         254368,
         "41.162.197",
         "Lekythos",
         null,
         1941,
         "4936",
         4
        ],
        [
         254369,
         "41.162.198",
         "Terracotta vase in the form of two cockle shells",
         null,
         1941,
         null,
         4
        ],
        [
         254370,
         "41.162.199",
         "Terracotta vase in the form of a rooster",
         null,
         1941,
         null,
         4
        ],
        [
         254371,
         "41.162.200",
         "Jug in the form of a bull",
         null,
         1941,
         null,
         4
        ],
        [
         254372,
         "41.162.201",
         "Squat lekythos",
         null,
         1941,
         null,
         4
        ],
        [
         254373,
         "41.162.202",
         "Lekythos",
         null,
         1941,
         null,
         4
        ],
        [
         254374,
         "41.162.203",
         "Terracotta squat lekythos (oil flask)",
         null,
         1941,
         null,
         4
        ],
        [
         254375,
         "41.162.204",
         "Skyphos, miniature",
         null,
         1941,
         null,
         4
        ],
        [
         254376,
         "41.162.205",
         "Squat lekythos, miniature",
         null,
         1941,
         null,
         4
        ],
        [
         254377,
         "41.162.206",
         "Terracotta lekythos (oil flask)",
         null,
         1941,
         null,
         4
        ],
        [
         254378,
         "41.162.207",
         "Lekythos",
         null,
         1941,
         "4908",
         4
        ],
        [
         254379,
         "41.162.208a, b",
         "Plemochoe with lid",
         null,
         1941,
         "4909",
         4
        ],
        [
         254380,
         "41.162.209",
         "Oinochoe",
         null,
         1941,
         "4936",
         4
        ],
        [
         254382,
         "41.162.211",
         "Terracotta kylix (drinking cup)",
         null,
         1941,
         null,
         4
        ],
        [
         254383,
         "41.162.212",
         "Terracotta neck-amphora (jar)",
         null,
         1941,
         null,
         4
        ],
        [
         254384,
         "41.162.213",
         "Hydria",
         null,
         1941,
         null,
         4
        ],
        [
         254385,
         "41.162.214",
         "Alabastron",
         null,
         1941,
         null,
         4
        ],
        [
         254386,
         "41.162.215",
         "Squat lekythos",
         null,
         1941,
         "4936",
         4
        ],
        [
         254387,
         "41.162.216",
         "Squat lekythos",
         null,
         1941,
         null,
         4
        ],
        [
         254388,
         "41.162.217",
         "Lekythos",
         null,
         1941,
         "4908",
         4
        ],
        [
         254389,
         "41.162.218",
         "Alabastron",
         null,
         1941,
         null,
         4
        ],
        [
         254390,
         "41.162.219",
         "Skyphos",
         null,
         1941,
         null,
         4
        ],
        [
         254391,
         "41.162.220",
         "Skyphos, Pistian",
         null,
         1941,
         "490844936",
         4
        ],
        [
         254392,
         "41.162.221",
         "Squat lekythos",
         null,
         1941,
         null,
         4
        ],
        [
         254393,
         "41.162.222",
         "Kylix",
         null,
         1941,
         null,
         4
        ],
        [
         254394,
         "41.162.223",
         "Terracotta stemless kylix (drinking cup)",
         null,
         1941,
         null,
         4
        ],
        [
         254395,
         "41.162.224",
         "Terracotta miniature hydria: kalpis (water jar)",
         null,
         1941,
         null,
         4
        ],
        [
         254396,
         "41.162.225",
         "Terracotta lekythos (oil flask) with a bird",
         null,
         1941,
         null,
         4
        ],
        [
         254397,
         "41.162.226",
         "Lekythos",
         null,
         1941,
         "4908",
         4
        ],
        [
         254398,
         "41.162.227",
         "Terracotta lekythos (oil flask)",
         null,
         1941,
         null,
         4
        ],
        [
         254399,
         "41.162.228",
         "Skyphos",
         null,
         1941,
         null,
         4
        ],
        [
         254400,
         "41.162.229",
         "Bell-krater",
         null,
         1941,
         null,
         4
        ],
        [
         254401,
         "41.162.230",
         "Oinochoe",
         null,
         1941,
         "4908",
         4
        ],
        [
         254402,
         "41.162.231",
         "Terracotta guttus (flask with handle and vertical spout)",
         null,
         1941,
         null,
         4
        ],
        [
         254403,
         "41.162.232",
         "Kylix",
         null,
         1941,
         "4908",
         4
        ],
        [
         254404,
         "41.162.233",
         "Terracotta kantharos (drinking cup) with vertical ring handles",
         null,
         1941,
         null,
         4
        ],
        [
         254405,
         "41.162.234",
         "Terracotta hydria: kalpis (water jar)",
         null,
         1941,
         "4936",
         4
        ],
        [
         254406,
         "41.162.235",
         "Terracotta toy lekythos (oil flask) with a swan",
         null,
         1941,
         null,
         4
        ],
        [
         254407,
         "41.162.236",
         "Lekythos",
         null,
         1941,
         "4908",
         4
        ],
        [
         254408,
         "41.162.237",
         "Terracotta lekythos (oil flask)",
         null,
         1941,
         null,
         4
        ],
        [
         254409,
         "41.162.238",
         "Terracotta squat lekythos (oil flask)",
         null,
         1941,
         null,
         4
        ],
        [
         254410,
         "41.162.239",
         "Neck-amphora",
         null,
         1941,
         "4936",
         4
        ],
        [
         254411,
         "41.162.240",
         "Lekythos",
         null,
         1941,
         "4908",
         4
        ],
        [
         254412,
         "41.162.241",
         "Terracotta kylix (drinking cup)",
         null,
         1941,
         null,
         4
        ],
        [
         254413,
         "41.162.242",
         "Kylix",
         null,
         1941,
         null,
         4
        ],
        [
         254414,
         "41.162.243",
         "Oinochoe",
         null,
         1941,
         "4898",
         4
        ],
        [
         254415,
         "41.162.244",
         "Terracotta mug",
         null,
         1941,
         null,
         4
        ],
        [
         254416,
         "41.162.245",
         "Lekythos",
         null,
         1941,
         null,
         4
        ],
        [
         254417,
         "41.162.246",
         "Terracotta stemmed calyx",
         null,
         1941,
         null,
         4
        ],
        [
         254418,
         "41.162.247",
         "Terracotta stemmed dish",
         null,
         1941,
         null,
         4
        ],
        [
         254419,
         "41.162.248",
         "Lekythos",
         null,
         1941,
         "4909",
         4
        ],
        [
         254420,
         "41.162.249",
         "Terracotta rhyton (vase for libations or drinking)",
         null,
         1941,
         null,
         4
        ],
        [
         254421,
         "41.162.250",
         "Kylix, stemless",
         null,
         1941,
         null,
         4
        ],
        [
         254422,
         "41.162.251",
         "Amphora, miniature",
         null,
         1941,
         null,
         4
        ],
        [
         254423,
         "41.162.252",
         "Lekythos",
         null,
         1941,
         null,
         4
        ],
        [
         254424,
         "41.162.253",
         "Terracotta oinochoe (jug)",
         null,
         1941,
         "4899",
         4
        ],
        [
         254425,
         "41.162.254",
         "Lekythos",
         null,
         1941,
         "4900",
         4
        ],
        [
         254426,
         "41.162.255",
         "Terracotta lekythos (oil flask)",
         null,
         1941,
         "5301",
         4
        ],
        [
         254427,
         "41.162.256",
         "Lekythos",
         null,
         1941,
         "4909",
         4
        ],
        [
         254428,
         "41.162.257",
         "Plemochoe",
         null,
         1941,
         "4909",
         4
        ],
        [
         254429,
         "41.162.258",
         "Terracotta stemmed dish",
         null,
         1941,
         null,
         4
        ]
       ],
       "datasetInfos": [],
       "dbfsResultPath": null,
       "isJsonSchema": true,
       "metadata": {},
       "overflow": false,
       "plotOptions": {
        "customPlotOptions": {},
        "displayType": "table",
        "pivotAggregation": null,
        "pivotColumns": null,
        "xColumns": null,
        "yColumns": null
       },
       "removedWidgets": [],
       "schema": [
        {
         "metadata": "{}",
         "name": "object_id",
         "type": "\"integer\""
        },
        {
         "metadata": "{}",
         "name": "inventory_n",
         "type": "\"string\""
        },
        {
         "metadata": "{}",
         "name": "title",
         "type": "\"string\""
        },
        {
         "metadata": "{}",
         "name": "production_year",
         "type": "\"integer\""
        },
        {
         "metadata": "{}",
         "name": "acquisition_year",
         "type": "\"integer\""
        },
        {
         "metadata": "{}",
         "name": "artist_id",
         "type": "\"string\""
        },
        {
         "metadata": "{}",
         "name": "museum_id",
         "type": "\"integer\""
        }
       ],
       "type": "table"
      }
     },
     "output_type": "display_data"
    }
   ],
   "source": [
    "display(spark.read.format(\"delta\").load(\"abfss://clean@museumsdatalakeraw.dfs.core.windows.net/artworks_fact\"))"
   ]
  },
  {
   "cell_type": "markdown",
   "metadata": {
    "application/vnd.databricks.v1+cell": {
     "cellMetadata": {},
     "inputWidgets": {},
     "nuid": "30451199-71df-40c4-8d63-0fec8f2a47be",
     "showTitle": false,
     "tableResultSettingsMap": {},
     "title": ""
    }
   },
   "source": [
    "# 7. create a hive metastore with data to use itnernally in Databricks"
   ]
  },
  {
   "cell_type": "code",
   "execution_count": 0,
   "metadata": {
    "application/vnd.databricks.v1+cell": {
     "cellMetadata": {},
     "inputWidgets": {},
     "nuid": "71b5845c-10e0-4311-8275-0bf86ee30da6",
     "showTitle": false,
     "tableResultSettingsMap": {},
     "title": ""
    }
   },
   "outputs": [
    {
     "output_type": "display_data",
     "data": {
      "text/html": [
       "<style scoped>\n",
       "  .ansiout {\n",
       "    display: block;\n",
       "    unicode-bidi: embed;\n",
       "    white-space: pre-wrap;\n",
       "    word-wrap: break-word;\n",
       "    word-break: break-all;\n",
       "    font-family: \"Menlo\", \"Monaco\", \"Consolas\", \"Ubuntu Mono\", \"Source Code Pro\", monospace;\n",
       "    font-size: 13px;\n",
       "    color: #555;\n",
       "    margin-left: 4px;\n",
       "    line-height: 19px;\n",
       "  }\n",
       "</style>\n",
       "org.apache.spark.sql.catalyst.ExtendedAnalysisException: [TABLE_OR_VIEW_NOT_FOUND] The table or view `combined_artworks` cannot be found. Verify the spelling and correctness of the schema and catalog.\n",
       "If you did not qualify the name with a schema, verify the current_schema() output, or qualify the name with the correct schema and catalog.\n",
       "To tolerate the error on drop use DROP VIEW IF EXISTS or DROP TABLE IF EXISTS. SQLSTATE: 42P01; line 1 pos 57;\n",
       "'CreateTableAsSelect TableSpec(Map(),None,Map(),None,None,None,None,false,Set(),None,None,None), false, false\n",
       ":- ResolvedIdentifier com.databricks.sql.managedcatalog.UnityCatalogV2Proxy@180ed604, museums_data.artworks_fact\n",
       "+- 'Project [*]\n",
       "   +- 'UnresolvedRelation [combined_artworks], [], false\n",
       "\n",
       "\tat org.apache.spark.sql.catalyst.analysis.package$AnalysisErrorAt.tableNotFound(package.scala:94)\n",
       "\tat org.apache.spark.sql.catalyst.analysis.CheckAnalysis.$anonfun$checkAnalysis0$2(CheckAnalysis.scala:319)\n",
       "\tat org.apache.spark.sql.catalyst.analysis.CheckAnalysis.$anonfun$checkAnalysis0$2$adapted(CheckAnalysis.scala:281)\n",
       "\tat org.apache.spark.sql.catalyst.trees.TreeNode.foreachUp(TreeNode.scala:293)\n",
       "\tat org.apache.spark.sql.catalyst.trees.TreeNode.$anonfun$foreachUp$1(TreeNode.scala:292)\n",
       "\tat org.apache.spark.sql.catalyst.trees.TreeNode.$anonfun$foreachUp$1$adapted(TreeNode.scala:292)\n",
       "\tat scala.collection.Iterator.foreach(Iterator.scala:943)\n",
       "\tat scala.collection.Iterator.foreach$(Iterator.scala:943)\n",
       "\tat scala.collection.AbstractIterator.foreach(Iterator.scala:1431)\n",
       "\tat scala.collection.IterableLike.foreach(IterableLike.scala:74)\n",
       "\tat scala.collection.IterableLike.foreach$(IterableLike.scala:73)\n",
       "\tat scala.collection.AbstractIterable.foreach(Iterable.scala:56)\n",
       "\tat org.apache.spark.sql.catalyst.trees.TreeNode.foreachUp(TreeNode.scala:292)\n",
       "\tat org.apache.spark.sql.catalyst.trees.TreeNode.$anonfun$foreachUp$1(TreeNode.scala:292)\n",
       "\tat org.apache.spark.sql.catalyst.trees.TreeNode.$anonfun$foreachUp$1$adapted(TreeNode.scala:292)\n",
       "\tat scala.collection.immutable.List.foreach(List.scala:431)\n",
       "\tat org.apache.spark.sql.catalyst.trees.TreeNode.foreachUp(TreeNode.scala:292)\n",
       "\tat org.apache.spark.sql.catalyst.analysis.CheckAnalysis.checkAnalysis0(CheckAnalysis.scala:281)\n",
       "\tat org.apache.spark.sql.catalyst.analysis.CheckAnalysis.checkAnalysis0$(CheckAnalysis.scala:256)\n",
       "\tat org.apache.spark.sql.catalyst.analysis.Analyzer.checkAnalysis0(Analyzer.scala:414)\n",
       "\tat org.apache.spark.sql.catalyst.analysis.CheckAnalysis.$anonfun$checkAnalysis$1(CheckAnalysis.scala:241)\n",
       "\tat scala.runtime.java8.JFunction0$mcV$sp.apply(JFunction0$mcV$sp.java:23)\n",
       "\tat com.databricks.spark.util.FrameProfiler$.record(FrameProfiler.scala:94)\n",
       "\tat org.apache.spark.sql.catalyst.analysis.CheckAnalysis.checkAnalysis(CheckAnalysis.scala:228)\n",
       "\tat org.apache.spark.sql.catalyst.analysis.CheckAnalysis.checkAnalysis$(CheckAnalysis.scala:228)\n",
       "\tat org.apache.spark.sql.catalyst.analysis.Analyzer.checkAnalysis(Analyzer.scala:414)\n",
       "\tat org.apache.spark.sql.catalyst.analysis.resolver.HybridAnalyzer.$anonfun$resolveInFixedPoint$1(HybridAnalyzer.scala:192)\n",
       "\tat scala.runtime.java8.JFunction0$mcV$sp.apply(JFunction0$mcV$sp.java:23)\n",
       "\tat org.apache.spark.sql.catalyst.QueryPlanningTracker$.withTracker(QueryPlanningTracker.scala:211)\n",
       "\tat org.apache.spark.sql.catalyst.analysis.resolver.HybridAnalyzer.resolveInFixedPoint(HybridAnalyzer.scala:192)\n",
       "\tat org.apache.spark.sql.catalyst.analysis.resolver.HybridAnalyzer.$anonfun$apply$1(HybridAnalyzer.scala:76)\n",
       "\tat org.apache.spark.sql.catalyst.analysis.resolver.HybridAnalyzer.withTrackedAnalyzerBridgeState(HybridAnalyzer.scala:111)\n",
       "\tat org.apache.spark.sql.catalyst.analysis.resolver.HybridAnalyzer.apply(HybridAnalyzer.scala:71)\n",
       "\tat org.apache.spark.sql.catalyst.analysis.Analyzer.$anonfun$executeAndCheck$1(Analyzer.scala:486)\n",
       "\tat org.apache.spark.sql.catalyst.plans.logical.AnalysisHelper$.markInAnalyzer(AnalysisHelper.scala:443)\n",
       "\tat org.apache.spark.sql.catalyst.analysis.Analyzer.executeAndCheck(Analyzer.scala:486)\n",
       "\tat org.apache.spark.sql.execution.QueryExecution.$anonfun$lazyAnalyzed$2(QueryExecution.scala:279)\n",
       "\tat com.databricks.spark.util.FrameProfiler$.record(FrameProfiler.scala:94)\n",
       "\tat org.apache.spark.sql.catalyst.QueryPlanningTracker.measurePhase(QueryPlanningTracker.scala:525)\n",
       "\tat org.apache.spark.sql.execution.QueryExecution.$anonfun$executePhase$5(QueryExecution.scala:623)\n",
       "\tat org.apache.spark.sql.execution.SQLExecution$.withExecutionPhase(SQLExecution.scala:146)\n",
       "\tat org.apache.spark.sql.execution.QueryExecution.$anonfun$executePhase$4(QueryExecution.scala:623)\n",
       "\tat org.apache.spark.sql.execution.QueryExecution$.withInternalError(QueryExecution.scala:1257)\n",
       "\tat org.apache.spark.sql.execution.QueryExecution.$anonfun$executePhase$2(QueryExecution.scala:622)\n",
       "\tat com.databricks.util.LexicalThreadLocal$Handle.runWith(LexicalThreadLocal.scala:63)\n",
       "\tat org.apache.spark.sql.execution.QueryExecution.$anonfun$executePhase$1(QueryExecution.scala:618)\n",
       "\tat org.apache.spark.sql.SparkSession.withActive(SparkSession.scala:1444)\n",
       "\tat org.apache.spark.sql.execution.QueryExecution.executePhase(QueryExecution.scala:618)\n",
       "\tat org.apache.spark.sql.execution.QueryExecution.$anonfun$lazyAnalyzed$1(QueryExecution.scala:273)\n",
       "\tat scala.util.Try$.apply(Try.scala:213)\n",
       "\tat org.apache.spark.util.Utils$.doTryWithCallerStacktrace(Utils.scala:1755)\n",
       "\tat org.apache.spark.util.Utils$.getTryWithCallerStacktrace(Utils.scala:1816)\n",
       "\tat org.apache.spark.util.LazyTry.get(LazyTry.scala:58)\n",
       "\tat org.apache.spark.sql.execution.QueryExecution.analyzed(QueryExecution.scala:305)\n",
       "\tat org.apache.spark.sql.execution.QueryExecution.assertAnalyzed(QueryExecution.scala:253)\n",
       "\tat org.apache.spark.sql.Dataset$.$anonfun$ofRows$2(Dataset.scala:131)\n",
       "\tat org.apache.spark.sql.SparkSession.withActive(SparkSession.scala:1444)\n",
       "\tat org.apache.spark.sql.SparkSession.$anonfun$withActiveAndFrameProfiler$1(SparkSession.scala:1451)\n",
       "\tat com.databricks.spark.util.FrameProfiler$.record(FrameProfiler.scala:94)\n",
       "\tat org.apache.spark.sql.SparkSession.withActiveAndFrameProfiler(SparkSession.scala:1451)\n",
       "\tat org.apache.spark.sql.Dataset$.ofRows(Dataset.scala:123)\n",
       "\tat org.apache.spark.sql.SparkSession.$anonfun$sql$4(SparkSession.scala:1124)\n",
       "\tat org.apache.spark.sql.SparkSession.withActive(SparkSession.scala:1444)\n",
       "\tat org.apache.spark.sql.SparkSession.sql(SparkSession.scala:1076)\n",
       "\tat org.apache.spark.sql.SparkSession.sql(SparkSession.scala:1148)\n",
       "\tat com.databricks.backend.daemon.driver.DriverLocal$DbClassicStrategy.executeSQLQuery(DriverLocal.scala:343)\n",
       "\tat com.databricks.backend.daemon.driver.DriverLocal.executeSQLSubCommand(DriverLocal.scala:443)\n",
       "\tat com.databricks.backend.daemon.driver.DriverLocal.$anonfun$executeSql$1(DriverLocal.scala:467)\n",
       "\tat scala.collection.immutable.List.map(List.scala:297)\n",
       "\tat com.databricks.backend.daemon.driver.DriverLocal.executeSql(DriverLocal.scala:462)\n",
       "\tat com.databricks.backend.daemon.driver.JupyterDriverLocal.repl(JupyterDriverLocal.scala:1457)\n",
       "\tat com.databricks.backend.daemon.driver.DriverLocal.$anonfun$execute$36(DriverLocal.scala:1260)\n",
       "\tat com.databricks.unity.EmptyHandle$.runWith(UCSHandle.scala:133)\n",
       "\tat com.databricks.backend.daemon.driver.DriverLocal.$anonfun$execute$30(DriverLocal.scala:1251)\n",
       "\tat com.databricks.logging.AttributionContextTracing.$anonfun$withAttributionContext$1(AttributionContextTracing.scala:49)\n",
       "\tat com.databricks.logging.AttributionContext$.$anonfun$withValue$1(AttributionContext.scala:293)\n",
       "\tat scala.util.DynamicVariable.withValue(DynamicVariable.scala:62)\n",
       "\tat com.databricks.logging.AttributionContext$.withValue(AttributionContext.scala:289)\n",
       "\tat com.databricks.logging.AttributionContextTracing.withAttributionContext(AttributionContextTracing.scala:47)\n",
       "\tat com.databricks.logging.AttributionContextTracing.withAttributionContext$(AttributionContextTracing.scala:44)\n",
       "\tat com.databricks.backend.daemon.driver.DriverLocal.withAttributionContext(DriverLocal.scala:123)\n",
       "\tat com.databricks.logging.AttributionContextTracing.withAttributionTags(AttributionContextTracing.scala:96)\n",
       "\tat com.databricks.logging.AttributionContextTracing.withAttributionTags$(AttributionContextTracing.scala:77)\n",
       "\tat com.databricks.backend.daemon.driver.DriverLocal.withAttributionTags(DriverLocal.scala:123)\n",
       "\tat com.databricks.backend.daemon.driver.DriverLocal.$anonfun$execute$1(DriverLocal.scala:1176)\n",
       "\tat com.databricks.backend.daemon.driver.DriverLocal$.$anonfun$maybeSynchronizeExecution$4(DriverLocal.scala:1645)\n",
       "\tat com.databricks.backend.daemon.driver.DriverLocal.execute(DriverLocal.scala:819)\n",
       "\tat com.databricks.backend.daemon.driver.DriverWrapper.$anonfun$tryExecutingCommand$2(DriverWrapper.scala:1086)\n",
       "\tat scala.util.Try$.apply(Try.scala:213)\n",
       "\tat com.databricks.backend.daemon.driver.DriverWrapper.$anonfun$tryExecutingCommand$1(DriverWrapper.scala:1075)\n",
       "\tat com.databricks.backend.daemon.driver.DriverWrapper.$anonfun$tryExecutingCommand$3(DriverWrapper.scala:1121)\n",
       "\tat com.databricks.logging.UsageLogging.executeThunkAndCaptureResultTags$1(UsageLogging.scala:613)\n",
       "\tat com.databricks.logging.UsageLogging.$anonfun$recordOperationWithResultTags$4(UsageLogging.scala:636)\n",
       "\tat com.databricks.logging.AttributionContextTracing.$anonfun$withAttributionContext$1(AttributionContextTracing.scala:49)\n",
       "\tat com.databricks.logging.AttributionContext$.$anonfun$withValue$1(AttributionContext.scala:293)\n",
       "\tat scala.util.DynamicVariable.withValue(DynamicVariable.scala:62)\n",
       "\tat com.databricks.logging.AttributionContext$.withValue(AttributionContext.scala:289)\n",
       "\tat com.databricks.logging.AttributionContextTracing.withAttributionContext(AttributionContextTracing.scala:47)\n",
       "\tat com.databricks.logging.AttributionContextTracing.withAttributionContext$(AttributionContextTracing.scala:44)\n",
       "\tat com.databricks.backend.daemon.driver.DriverWrapper.withAttributionContext(DriverWrapper.scala:80)\n",
       "\tat com.databricks.logging.AttributionContextTracing.withAttributionTags(AttributionContextTracing.scala:96)\n",
       "\tat com.databricks.logging.AttributionContextTracing.withAttributionTags$(AttributionContextTracing.scala:77)\n",
       "\tat com.databricks.backend.daemon.driver.DriverWrapper.withAttributionTags(DriverWrapper.scala:80)\n",
       "\tat com.databricks.logging.UsageLogging.recordOperationWithResultTags(UsageLogging.scala:608)\n",
       "\tat com.databricks.logging.UsageLogging.recordOperationWithResultTags$(UsageLogging.scala:517)\n",
       "\tat com.databricks.backend.daemon.driver.DriverWrapper.recordOperationWithResultTags(DriverWrapper.scala:80)\n",
       "\tat com.databricks.backend.daemon.driver.DriverWrapper.tryExecutingCommand(DriverWrapper.scala:1121)\n",
       "\tat com.databricks.backend.daemon.driver.DriverWrapper.executeCommandAndGetError(DriverWrapper.scala:805)\n",
       "\tat com.databricks.backend.daemon.driver.DriverWrapper.executeCommand(DriverWrapper.scala:898)\n",
       "\tat com.databricks.backend.daemon.driver.DriverWrapper.$anonfun$runInnerLoop$1(DriverWrapper.scala:669)\n",
       "\tat scala.runtime.java8.JFunction0$mcV$sp.apply(JFunction0$mcV$sp.java:23)\n",
       "\tat com.databricks.logging.AttributionContextTracing.$anonfun$withAttributionContext$1(AttributionContextTracing.scala:49)\n",
       "\tat com.databricks.logging.AttributionContext$.$anonfun$withValue$1(AttributionContext.scala:293)\n",
       "\tat scala.util.DynamicVariable.withValue(DynamicVariable.scala:62)\n",
       "\tat com.databricks.logging.AttributionContext$.withValue(AttributionContext.scala:289)\n",
       "\tat com.databricks.logging.AttributionContextTracing.withAttributionContext(AttributionContextTracing.scala:47)\n",
       "\tat com.databricks.logging.AttributionContextTracing.withAttributionContext$(AttributionContextTracing.scala:44)\n",
       "\tat com.databricks.backend.daemon.driver.DriverWrapper.withAttributionContext(DriverWrapper.scala:80)\n",
       "\tat com.databricks.backend.daemon.driver.DriverWrapper.runInnerLoop(DriverWrapper.scala:664)\n",
       "\tat com.databricks.backend.daemon.driver.DriverWrapper.runInner(DriverWrapper.scala:587)\n",
       "\tat com.databricks.backend.daemon.driver.DriverWrapper.run(DriverWrapper.scala:370)\n",
       "\tat java.base/java.lang.Thread.run(Thread.java:840)\n",
       "\tSuppressed: org.apache.spark.util.Utils$OriginalTryStackTraceException: Full stacktrace of original doTryWithCallerStacktrace caller\n",
       "\t\tat org.apache.spark.sql.catalyst.analysis.package$AnalysisErrorAt.tableNotFound(package.scala:94)\n",
       "\t\tat org.apache.spark.sql.catalyst.analysis.CheckAnalysis.$anonfun$checkAnalysis0$2(CheckAnalysis.scala:319)\n",
       "\t\tat org.apache.spark.sql.catalyst.analysis.CheckAnalysis.$anonfun$checkAnalysis0$2$adapted(CheckAnalysis.scala:281)\n",
       "\t\tat org.apache.spark.sql.catalyst.trees.TreeNode.foreachUp(TreeNode.scala:293)\n",
       "\t\tat org.apache.spark.sql.catalyst.trees.TreeNode.$anonfun$foreachUp$1(TreeNode.scala:292)\n",
       "\t\tat org.apache.spark.sql.catalyst.trees.TreeNode.$anonfun$foreachUp$1$adapted(TreeNode.scala:292)\n",
       "\t\tat scala.collection.Iterator.foreach(Iterator.scala:943)\n",
       "\t\tat scala.collection.Iterator.foreach$(Iterator.scala:943)\n",
       "\t\tat scala.collection.AbstractIterator.foreach(Iterator.scala:1431)\n",
       "\t\tat scala.collection.IterableLike.foreach(IterableLike.scala:74)\n",
       "\t\tat scala.collection.IterableLike.foreach$(IterableLike.scala:73)\n",
       "\t\tat scala.collection.AbstractIterable.foreach(Iterable.scala:56)\n",
       "\t\tat org.apache.spark.sql.catalyst.trees.TreeNode.foreachUp(TreeNode.scala:292)\n",
       "\t\tat org.apache.spark.sql.catalyst.trees.TreeNode.$anonfun$foreachUp$1(TreeNode.scala:292)\n",
       "\t\tat org.apache.spark.sql.catalyst.trees.TreeNode.$anonfun$foreachUp$1$adapted(TreeNode.scala:292)\n",
       "\t\tat scala.collection.immutable.List.foreach(List.scala:431)\n",
       "\t\tat org.apache.spark.sql.catalyst.trees.TreeNode.foreachUp(TreeNode.scala:292)\n",
       "\t\tat org.apache.spark.sql.catalyst.analysis.CheckAnalysis.checkAnalysis0(CheckAnalysis.scala:281)\n",
       "\t\tat org.apache.spark.sql.catalyst.analysis.CheckAnalysis.checkAnalysis0$(CheckAnalysis.scala:256)\n",
       "\t\tat org.apache.spark.sql.catalyst.analysis.Analyzer.checkAnalysis0(Analyzer.scala:414)\n",
       "\t\tat org.apache.spark.sql.catalyst.analysis.CheckAnalysis.$anonfun$checkAnalysis$1(CheckAnalysis.scala:241)\n",
       "\t\tat scala.runtime.java8.JFunction0$mcV$sp.apply(JFunction0$mcV$sp.java:23)\n",
       "\t\tat com.databricks.spark.util.FrameProfiler$.record(FrameProfiler.scala:94)\n",
       "\t\tat org.apache.spark.sql.catalyst.analysis.CheckAnalysis.checkAnalysis(CheckAnalysis.scala:228)\n",
       "\t\tat org.apache.spark.sql.catalyst.analysis.CheckAnalysis.checkAnalysis$(CheckAnalysis.scala:228)\n",
       "\t\tat org.apache.spark.sql.catalyst.analysis.Analyzer.checkAnalysis(Analyzer.scala:414)\n",
       "\t\tat org.apache.spark.sql.catalyst.analysis.resolver.HybridAnalyzer.$anonfun$resolveInFixedPoint$1(HybridAnalyzer.scala:192)\n",
       "\t\tat scala.runtime.java8.JFunction0$mcV$sp.apply(JFunction0$mcV$sp.java:23)\n",
       "\t\tat org.apache.spark.sql.catalyst.QueryPlanningTracker$.withTracker(QueryPlanningTracker.scala:211)\n",
       "\t\tat org.apache.spark.sql.catalyst.analysis.resolver.HybridAnalyzer.resolveInFixedPoint(HybridAnalyzer.scala:192)\n",
       "\t\tat org.apache.spark.sql.catalyst.analysis.resolver.HybridAnalyzer.$anonfun$apply$1(HybridAnalyzer.scala:76)\n",
       "\t\tat org.apache.spark.sql.catalyst.analysis.resolver.HybridAnalyzer.withTrackedAnalyzerBridgeState(HybridAnalyzer.scala:111)\n",
       "\t\tat org.apache.spark.sql.catalyst.analysis.resolver.HybridAnalyzer.apply(HybridAnalyzer.scala:71)\n",
       "\t\tat org.apache.spark.sql.catalyst.analysis.Analyzer.$anonfun$executeAndCheck$1(Analyzer.scala:486)\n",
       "\t\tat org.apache.spark.sql.catalyst.plans.logical.AnalysisHelper$.markInAnalyzer(AnalysisHelper.scala:443)\n",
       "\t\tat org.apache.spark.sql.catalyst.analysis.Analyzer.executeAndCheck(Analyzer.scala:486)\n",
       "\t\tat org.apache.spark.sql.execution.QueryExecution.$anonfun$lazyAnalyzed$2(QueryExecution.scala:279)\n",
       "\t\tat com.databricks.spark.util.FrameProfiler$.record(FrameProfiler.scala:94)\n",
       "\t\tat org.apache.spark.sql.catalyst.QueryPlanningTracker.measurePhase(QueryPlanningTracker.scala:525)\n",
       "\t\tat org.apache.spark.sql.execution.QueryExecution.$anonfun$executePhase$5(QueryExecution.scala:623)\n",
       "\t\tat org.apache.spark.sql.execution.SQLExecution$.withExecutionPhase(SQLExecution.scala:146)\n",
       "\t\tat org.apache.spark.sql.execution.QueryExecution.$anonfun$executePhase$4(QueryExecution.scala:623)\n",
       "\t\tat org.apache.spark.sql.execution.QueryExecution$.withInternalError(QueryExecution.scala:1257)\n",
       "\t\tat org.apache.spark.sql.execution.QueryExecution.$anonfun$executePhase$2(QueryExecution.scala:622)\n",
       "\t\tat com.databricks.util.LexicalThreadLocal$Handle.runWith(LexicalThreadLocal.scala:63)\n",
       "\t\tat org.apache.spark.sql.execution.QueryExecution.$anonfun$executePhase$1(QueryExecution.scala:618)\n",
       "\t\tat org.apache.spark.sql.SparkSession.withActive(SparkSession.scala:1444)\n",
       "\t\tat org.apache.spark.sql.execution.QueryExecution.executePhase(QueryExecution.scala:618)\n",
       "\t\tat org.apache.spark.sql.execution.QueryExecution.$anonfun$lazyAnalyzed$1(QueryExecution.scala:273)\n",
       "\t\tat scala.util.Try$.apply(Try.scala:213)\n",
       "\t\tat org.apache.spark.util.Utils$.doTryWithCallerStacktrace(Utils.scala:1755)\n",
       "\t\tat org.apache.spark.util.LazyTry.tryT$lzycompute(LazyTry.scala:46)\n",
       "\t\tat org.apache.spark.util.LazyTry.tryT(LazyTry.scala:46)\n",
       "\t\t... 70 more"
      ]
     },
     "metadata": {
      "application/vnd.databricks.v1+output": {
       "arguments": {},
       "data": "org.apache.spark.sql.catalyst.ExtendedAnalysisException: [TABLE_OR_VIEW_NOT_FOUND] The table or view `combined_artworks` cannot be found. Verify the spelling and correctness of the schema and catalog.\nIf you did not qualify the name with a schema, verify the current_schema() output, or qualify the name with the correct schema and catalog.\nTo tolerate the error on drop use DROP VIEW IF EXISTS or DROP TABLE IF EXISTS. SQLSTATE: 42P01; line 1 pos 57;\n'CreateTableAsSelect TableSpec(Map(),None,Map(),None,None,None,None,false,Set(),None,None,None), false, false\n:- ResolvedIdentifier com.databricks.sql.managedcatalog.UnityCatalogV2Proxy@180ed604, museums_data.artworks_fact\n+- 'Project [*]\n   +- 'UnresolvedRelation [combined_artworks], [], false\n\n\tat org.apache.spark.sql.catalyst.analysis.package$AnalysisErrorAt.tableNotFound(package.scala:94)\n\tat org.apache.spark.sql.catalyst.analysis.CheckAnalysis.$anonfun$checkAnalysis0$2(CheckAnalysis.scala:319)\n\tat org.apache.spark.sql.catalyst.analysis.CheckAnalysis.$anonfun$checkAnalysis0$2$adapted(CheckAnalysis.scala:281)\n\tat org.apache.spark.sql.catalyst.trees.TreeNode.foreachUp(TreeNode.scala:293)\n\tat org.apache.spark.sql.catalyst.trees.TreeNode.$anonfun$foreachUp$1(TreeNode.scala:292)\n\tat org.apache.spark.sql.catalyst.trees.TreeNode.$anonfun$foreachUp$1$adapted(TreeNode.scala:292)\n\tat scala.collection.Iterator.foreach(Iterator.scala:943)\n\tat scala.collection.Iterator.foreach$(Iterator.scala:943)\n\tat scala.collection.AbstractIterator.foreach(Iterator.scala:1431)\n\tat scala.collection.IterableLike.foreach(IterableLike.scala:74)\n\tat scala.collection.IterableLike.foreach$(IterableLike.scala:73)\n\tat scala.collection.AbstractIterable.foreach(Iterable.scala:56)\n\tat org.apache.spark.sql.catalyst.trees.TreeNode.foreachUp(TreeNode.scala:292)\n\tat org.apache.spark.sql.catalyst.trees.TreeNode.$anonfun$foreachUp$1(TreeNode.scala:292)\n\tat org.apache.spark.sql.catalyst.trees.TreeNode.$anonfun$foreachUp$1$adapted(TreeNode.scala:292)\n\tat scala.collection.immutable.List.foreach(List.scala:431)\n\tat org.apache.spark.sql.catalyst.trees.TreeNode.foreachUp(TreeNode.scala:292)\n\tat org.apache.spark.sql.catalyst.analysis.CheckAnalysis.checkAnalysis0(CheckAnalysis.scala:281)\n\tat org.apache.spark.sql.catalyst.analysis.CheckAnalysis.checkAnalysis0$(CheckAnalysis.scala:256)\n\tat org.apache.spark.sql.catalyst.analysis.Analyzer.checkAnalysis0(Analyzer.scala:414)\n\tat org.apache.spark.sql.catalyst.analysis.CheckAnalysis.$anonfun$checkAnalysis$1(CheckAnalysis.scala:241)\n\tat scala.runtime.java8.JFunction0$mcV$sp.apply(JFunction0$mcV$sp.java:23)\n\tat com.databricks.spark.util.FrameProfiler$.record(FrameProfiler.scala:94)\n\tat org.apache.spark.sql.catalyst.analysis.CheckAnalysis.checkAnalysis(CheckAnalysis.scala:228)\n\tat org.apache.spark.sql.catalyst.analysis.CheckAnalysis.checkAnalysis$(CheckAnalysis.scala:228)\n\tat org.apache.spark.sql.catalyst.analysis.Analyzer.checkAnalysis(Analyzer.scala:414)\n\tat org.apache.spark.sql.catalyst.analysis.resolver.HybridAnalyzer.$anonfun$resolveInFixedPoint$1(HybridAnalyzer.scala:192)\n\tat scala.runtime.java8.JFunction0$mcV$sp.apply(JFunction0$mcV$sp.java:23)\n\tat org.apache.spark.sql.catalyst.QueryPlanningTracker$.withTracker(QueryPlanningTracker.scala:211)\n\tat org.apache.spark.sql.catalyst.analysis.resolver.HybridAnalyzer.resolveInFixedPoint(HybridAnalyzer.scala:192)\n\tat org.apache.spark.sql.catalyst.analysis.resolver.HybridAnalyzer.$anonfun$apply$1(HybridAnalyzer.scala:76)\n\tat org.apache.spark.sql.catalyst.analysis.resolver.HybridAnalyzer.withTrackedAnalyzerBridgeState(HybridAnalyzer.scala:111)\n\tat org.apache.spark.sql.catalyst.analysis.resolver.HybridAnalyzer.apply(HybridAnalyzer.scala:71)\n\tat org.apache.spark.sql.catalyst.analysis.Analyzer.$anonfun$executeAndCheck$1(Analyzer.scala:486)\n\tat org.apache.spark.sql.catalyst.plans.logical.AnalysisHelper$.markInAnalyzer(AnalysisHelper.scala:443)\n\tat org.apache.spark.sql.catalyst.analysis.Analyzer.executeAndCheck(Analyzer.scala:486)\n\tat org.apache.spark.sql.execution.QueryExecution.$anonfun$lazyAnalyzed$2(QueryExecution.scala:279)\n\tat com.databricks.spark.util.FrameProfiler$.record(FrameProfiler.scala:94)\n\tat org.apache.spark.sql.catalyst.QueryPlanningTracker.measurePhase(QueryPlanningTracker.scala:525)\n\tat org.apache.spark.sql.execution.QueryExecution.$anonfun$executePhase$5(QueryExecution.scala:623)\n\tat org.apache.spark.sql.execution.SQLExecution$.withExecutionPhase(SQLExecution.scala:146)\n\tat org.apache.spark.sql.execution.QueryExecution.$anonfun$executePhase$4(QueryExecution.scala:623)\n\tat org.apache.spark.sql.execution.QueryExecution$.withInternalError(QueryExecution.scala:1257)\n\tat org.apache.spark.sql.execution.QueryExecution.$anonfun$executePhase$2(QueryExecution.scala:622)\n\tat com.databricks.util.LexicalThreadLocal$Handle.runWith(LexicalThreadLocal.scala:63)\n\tat org.apache.spark.sql.execution.QueryExecution.$anonfun$executePhase$1(QueryExecution.scala:618)\n\tat org.apache.spark.sql.SparkSession.withActive(SparkSession.scala:1444)\n\tat org.apache.spark.sql.execution.QueryExecution.executePhase(QueryExecution.scala:618)\n\tat org.apache.spark.sql.execution.QueryExecution.$anonfun$lazyAnalyzed$1(QueryExecution.scala:273)\n\tat scala.util.Try$.apply(Try.scala:213)\n\tat org.apache.spark.util.Utils$.doTryWithCallerStacktrace(Utils.scala:1755)\n\tat org.apache.spark.util.Utils$.getTryWithCallerStacktrace(Utils.scala:1816)\n\tat org.apache.spark.util.LazyTry.get(LazyTry.scala:58)\n\tat org.apache.spark.sql.execution.QueryExecution.analyzed(QueryExecution.scala:305)\n\tat org.apache.spark.sql.execution.QueryExecution.assertAnalyzed(QueryExecution.scala:253)\n\tat org.apache.spark.sql.Dataset$.$anonfun$ofRows$2(Dataset.scala:131)\n\tat org.apache.spark.sql.SparkSession.withActive(SparkSession.scala:1444)\n\tat org.apache.spark.sql.SparkSession.$anonfun$withActiveAndFrameProfiler$1(SparkSession.scala:1451)\n\tat com.databricks.spark.util.FrameProfiler$.record(FrameProfiler.scala:94)\n\tat org.apache.spark.sql.SparkSession.withActiveAndFrameProfiler(SparkSession.scala:1451)\n\tat org.apache.spark.sql.Dataset$.ofRows(Dataset.scala:123)\n\tat org.apache.spark.sql.SparkSession.$anonfun$sql$4(SparkSession.scala:1124)\n\tat org.apache.spark.sql.SparkSession.withActive(SparkSession.scala:1444)\n\tat org.apache.spark.sql.SparkSession.sql(SparkSession.scala:1076)\n\tat org.apache.spark.sql.SparkSession.sql(SparkSession.scala:1148)\n\tat com.databricks.backend.daemon.driver.DriverLocal$DbClassicStrategy.executeSQLQuery(DriverLocal.scala:343)\n\tat com.databricks.backend.daemon.driver.DriverLocal.executeSQLSubCommand(DriverLocal.scala:443)\n\tat com.databricks.backend.daemon.driver.DriverLocal.$anonfun$executeSql$1(DriverLocal.scala:467)\n\tat scala.collection.immutable.List.map(List.scala:297)\n\tat com.databricks.backend.daemon.driver.DriverLocal.executeSql(DriverLocal.scala:462)\n\tat com.databricks.backend.daemon.driver.JupyterDriverLocal.repl(JupyterDriverLocal.scala:1457)\n\tat com.databricks.backend.daemon.driver.DriverLocal.$anonfun$execute$36(DriverLocal.scala:1260)\n\tat com.databricks.unity.EmptyHandle$.runWith(UCSHandle.scala:133)\n\tat com.databricks.backend.daemon.driver.DriverLocal.$anonfun$execute$30(DriverLocal.scala:1251)\n\tat com.databricks.logging.AttributionContextTracing.$anonfun$withAttributionContext$1(AttributionContextTracing.scala:49)\n\tat com.databricks.logging.AttributionContext$.$anonfun$withValue$1(AttributionContext.scala:293)\n\tat scala.util.DynamicVariable.withValue(DynamicVariable.scala:62)\n\tat com.databricks.logging.AttributionContext$.withValue(AttributionContext.scala:289)\n\tat com.databricks.logging.AttributionContextTracing.withAttributionContext(AttributionContextTracing.scala:47)\n\tat com.databricks.logging.AttributionContextTracing.withAttributionContext$(AttributionContextTracing.scala:44)\n\tat com.databricks.backend.daemon.driver.DriverLocal.withAttributionContext(DriverLocal.scala:123)\n\tat com.databricks.logging.AttributionContextTracing.withAttributionTags(AttributionContextTracing.scala:96)\n\tat com.databricks.logging.AttributionContextTracing.withAttributionTags$(AttributionContextTracing.scala:77)\n\tat com.databricks.backend.daemon.driver.DriverLocal.withAttributionTags(DriverLocal.scala:123)\n\tat com.databricks.backend.daemon.driver.DriverLocal.$anonfun$execute$1(DriverLocal.scala:1176)\n\tat com.databricks.backend.daemon.driver.DriverLocal$.$anonfun$maybeSynchronizeExecution$4(DriverLocal.scala:1645)\n\tat com.databricks.backend.daemon.driver.DriverLocal.execute(DriverLocal.scala:819)\n\tat com.databricks.backend.daemon.driver.DriverWrapper.$anonfun$tryExecutingCommand$2(DriverWrapper.scala:1086)\n\tat scala.util.Try$.apply(Try.scala:213)\n\tat com.databricks.backend.daemon.driver.DriverWrapper.$anonfun$tryExecutingCommand$1(DriverWrapper.scala:1075)\n\tat com.databricks.backend.daemon.driver.DriverWrapper.$anonfun$tryExecutingCommand$3(DriverWrapper.scala:1121)\n\tat com.databricks.logging.UsageLogging.executeThunkAndCaptureResultTags$1(UsageLogging.scala:613)\n\tat com.databricks.logging.UsageLogging.$anonfun$recordOperationWithResultTags$4(UsageLogging.scala:636)\n\tat com.databricks.logging.AttributionContextTracing.$anonfun$withAttributionContext$1(AttributionContextTracing.scala:49)\n\tat com.databricks.logging.AttributionContext$.$anonfun$withValue$1(AttributionContext.scala:293)\n\tat scala.util.DynamicVariable.withValue(DynamicVariable.scala:62)\n\tat com.databricks.logging.AttributionContext$.withValue(AttributionContext.scala:289)\n\tat com.databricks.logging.AttributionContextTracing.withAttributionContext(AttributionContextTracing.scala:47)\n\tat com.databricks.logging.AttributionContextTracing.withAttributionContext$(AttributionContextTracing.scala:44)\n\tat com.databricks.backend.daemon.driver.DriverWrapper.withAttributionContext(DriverWrapper.scala:80)\n\tat com.databricks.logging.AttributionContextTracing.withAttributionTags(AttributionContextTracing.scala:96)\n\tat com.databricks.logging.AttributionContextTracing.withAttributionTags$(AttributionContextTracing.scala:77)\n\tat com.databricks.backend.daemon.driver.DriverWrapper.withAttributionTags(DriverWrapper.scala:80)\n\tat com.databricks.logging.UsageLogging.recordOperationWithResultTags(UsageLogging.scala:608)\n\tat com.databricks.logging.UsageLogging.recordOperationWithResultTags$(UsageLogging.scala:517)\n\tat com.databricks.backend.daemon.driver.DriverWrapper.recordOperationWithResultTags(DriverWrapper.scala:80)\n\tat com.databricks.backend.daemon.driver.DriverWrapper.tryExecutingCommand(DriverWrapper.scala:1121)\n\tat com.databricks.backend.daemon.driver.DriverWrapper.executeCommandAndGetError(DriverWrapper.scala:805)\n\tat com.databricks.backend.daemon.driver.DriverWrapper.executeCommand(DriverWrapper.scala:898)\n\tat com.databricks.backend.daemon.driver.DriverWrapper.$anonfun$runInnerLoop$1(DriverWrapper.scala:669)\n\tat scala.runtime.java8.JFunction0$mcV$sp.apply(JFunction0$mcV$sp.java:23)\n\tat com.databricks.logging.AttributionContextTracing.$anonfun$withAttributionContext$1(AttributionContextTracing.scala:49)\n\tat com.databricks.logging.AttributionContext$.$anonfun$withValue$1(AttributionContext.scala:293)\n\tat scala.util.DynamicVariable.withValue(DynamicVariable.scala:62)\n\tat com.databricks.logging.AttributionContext$.withValue(AttributionContext.scala:289)\n\tat com.databricks.logging.AttributionContextTracing.withAttributionContext(AttributionContextTracing.scala:47)\n\tat com.databricks.logging.AttributionContextTracing.withAttributionContext$(AttributionContextTracing.scala:44)\n\tat com.databricks.backend.daemon.driver.DriverWrapper.withAttributionContext(DriverWrapper.scala:80)\n\tat com.databricks.backend.daemon.driver.DriverWrapper.runInnerLoop(DriverWrapper.scala:664)\n\tat com.databricks.backend.daemon.driver.DriverWrapper.runInner(DriverWrapper.scala:587)\n\tat com.databricks.backend.daemon.driver.DriverWrapper.run(DriverWrapper.scala:370)\n\tat java.base/java.lang.Thread.run(Thread.java:840)\n\tSuppressed: org.apache.spark.util.Utils$OriginalTryStackTraceException: Full stacktrace of original doTryWithCallerStacktrace caller\n\t\tat org.apache.spark.sql.catalyst.analysis.package$AnalysisErrorAt.tableNotFound(package.scala:94)\n\t\tat org.apache.spark.sql.catalyst.analysis.CheckAnalysis.$anonfun$checkAnalysis0$2(CheckAnalysis.scala:319)\n\t\tat org.apache.spark.sql.catalyst.analysis.CheckAnalysis.$anonfun$checkAnalysis0$2$adapted(CheckAnalysis.scala:281)\n\t\tat org.apache.spark.sql.catalyst.trees.TreeNode.foreachUp(TreeNode.scala:293)\n\t\tat org.apache.spark.sql.catalyst.trees.TreeNode.$anonfun$foreachUp$1(TreeNode.scala:292)\n\t\tat org.apache.spark.sql.catalyst.trees.TreeNode.$anonfun$foreachUp$1$adapted(TreeNode.scala:292)\n\t\tat scala.collection.Iterator.foreach(Iterator.scala:943)\n\t\tat scala.collection.Iterator.foreach$(Iterator.scala:943)\n\t\tat scala.collection.AbstractIterator.foreach(Iterator.scala:1431)\n\t\tat scala.collection.IterableLike.foreach(IterableLike.scala:74)\n\t\tat scala.collection.IterableLike.foreach$(IterableLike.scala:73)\n\t\tat scala.collection.AbstractIterable.foreach(Iterable.scala:56)\n\t\tat org.apache.spark.sql.catalyst.trees.TreeNode.foreachUp(TreeNode.scala:292)\n\t\tat org.apache.spark.sql.catalyst.trees.TreeNode.$anonfun$foreachUp$1(TreeNode.scala:292)\n\t\tat org.apache.spark.sql.catalyst.trees.TreeNode.$anonfun$foreachUp$1$adapted(TreeNode.scala:292)\n\t\tat scala.collection.immutable.List.foreach(List.scala:431)\n\t\tat org.apache.spark.sql.catalyst.trees.TreeNode.foreachUp(TreeNode.scala:292)\n\t\tat org.apache.spark.sql.catalyst.analysis.CheckAnalysis.checkAnalysis0(CheckAnalysis.scala:281)\n\t\tat org.apache.spark.sql.catalyst.analysis.CheckAnalysis.checkAnalysis0$(CheckAnalysis.scala:256)\n\t\tat org.apache.spark.sql.catalyst.analysis.Analyzer.checkAnalysis0(Analyzer.scala:414)\n\t\tat org.apache.spark.sql.catalyst.analysis.CheckAnalysis.$anonfun$checkAnalysis$1(CheckAnalysis.scala:241)\n\t\tat scala.runtime.java8.JFunction0$mcV$sp.apply(JFunction0$mcV$sp.java:23)\n\t\tat com.databricks.spark.util.FrameProfiler$.record(FrameProfiler.scala:94)\n\t\tat org.apache.spark.sql.catalyst.analysis.CheckAnalysis.checkAnalysis(CheckAnalysis.scala:228)\n\t\tat org.apache.spark.sql.catalyst.analysis.CheckAnalysis.checkAnalysis$(CheckAnalysis.scala:228)\n\t\tat org.apache.spark.sql.catalyst.analysis.Analyzer.checkAnalysis(Analyzer.scala:414)\n\t\tat org.apache.spark.sql.catalyst.analysis.resolver.HybridAnalyzer.$anonfun$resolveInFixedPoint$1(HybridAnalyzer.scala:192)\n\t\tat scala.runtime.java8.JFunction0$mcV$sp.apply(JFunction0$mcV$sp.java:23)\n\t\tat org.apache.spark.sql.catalyst.QueryPlanningTracker$.withTracker(QueryPlanningTracker.scala:211)\n\t\tat org.apache.spark.sql.catalyst.analysis.resolver.HybridAnalyzer.resolveInFixedPoint(HybridAnalyzer.scala:192)\n\t\tat org.apache.spark.sql.catalyst.analysis.resolver.HybridAnalyzer.$anonfun$apply$1(HybridAnalyzer.scala:76)\n\t\tat org.apache.spark.sql.catalyst.analysis.resolver.HybridAnalyzer.withTrackedAnalyzerBridgeState(HybridAnalyzer.scala:111)\n\t\tat org.apache.spark.sql.catalyst.analysis.resolver.HybridAnalyzer.apply(HybridAnalyzer.scala:71)\n\t\tat org.apache.spark.sql.catalyst.analysis.Analyzer.$anonfun$executeAndCheck$1(Analyzer.scala:486)\n\t\tat org.apache.spark.sql.catalyst.plans.logical.AnalysisHelper$.markInAnalyzer(AnalysisHelper.scala:443)\n\t\tat org.apache.spark.sql.catalyst.analysis.Analyzer.executeAndCheck(Analyzer.scala:486)\n\t\tat org.apache.spark.sql.execution.QueryExecution.$anonfun$lazyAnalyzed$2(QueryExecution.scala:279)\n\t\tat com.databricks.spark.util.FrameProfiler$.record(FrameProfiler.scala:94)\n\t\tat org.apache.spark.sql.catalyst.QueryPlanningTracker.measurePhase(QueryPlanningTracker.scala:525)\n\t\tat org.apache.spark.sql.execution.QueryExecution.$anonfun$executePhase$5(QueryExecution.scala:623)\n\t\tat org.apache.spark.sql.execution.SQLExecution$.withExecutionPhase(SQLExecution.scala:146)\n\t\tat org.apache.spark.sql.execution.QueryExecution.$anonfun$executePhase$4(QueryExecution.scala:623)\n\t\tat org.apache.spark.sql.execution.QueryExecution$.withInternalError(QueryExecution.scala:1257)\n\t\tat org.apache.spark.sql.execution.QueryExecution.$anonfun$executePhase$2(QueryExecution.scala:622)\n\t\tat com.databricks.util.LexicalThreadLocal$Handle.runWith(LexicalThreadLocal.scala:63)\n\t\tat org.apache.spark.sql.execution.QueryExecution.$anonfun$executePhase$1(QueryExecution.scala:618)\n\t\tat org.apache.spark.sql.SparkSession.withActive(SparkSession.scala:1444)\n\t\tat org.apache.spark.sql.execution.QueryExecution.executePhase(QueryExecution.scala:618)\n\t\tat org.apache.spark.sql.execution.QueryExecution.$anonfun$lazyAnalyzed$1(QueryExecution.scala:273)\n\t\tat scala.util.Try$.apply(Try.scala:213)\n\t\tat org.apache.spark.util.Utils$.doTryWithCallerStacktrace(Utils.scala:1755)\n\t\tat org.apache.spark.util.LazyTry.tryT$lzycompute(LazyTry.scala:46)\n\t\tat org.apache.spark.util.LazyTry.tryT(LazyTry.scala:46)\n\t\t... 70 more\n",
       "errorSummary": "[TABLE_OR_VIEW_NOT_FOUND] The table or view `combined_artworks` cannot be found. Verify the spelling and correctness of the schema and catalog.\nIf you did not qualify the name with a schema, verify the current_schema() output, or qualify the name with the correct schema and catalog.\nTo tolerate the error on drop use DROP VIEW IF EXISTS or DROP TABLE IF EXISTS. SQLSTATE: 42P01",
       "errorTraceType": null,
       "metadata": {},
       "type": "ipynbError"
      }
     },
     "output_type": "display_data"
    }
   ],
   "source": [
    "%sql\n",
    "create database museums_data;"
   ]
  },
  {
   "cell_type": "code",
   "execution_count": 0,
   "metadata": {
    "application/vnd.databricks.v1+cell": {
     "cellMetadata": {},
     "inputWidgets": {},
     "nuid": "9a4d87f4-73da-4390-b776-5ea88c02c9cc",
     "showTitle": false,
     "tableResultSettingsMap": {},
     "title": ""
    }
   },
   "outputs": [],
   "source": [
    "combined_artworks.createOrReplaceTempView(\"tempArtworks\") "
   ]
  },
  {
   "cell_type": "code",
   "execution_count": 0,
   "metadata": {
    "application/vnd.databricks.v1+cell": {
     "cellMetadata": {},
     "inputWidgets": {},
     "nuid": "a150b33a-fb79-420f-990f-31cc7c9a64e4",
     "showTitle": false,
     "tableResultSettingsMap": {},
     "title": ""
    }
   },
   "outputs": [
    {
     "output_type": "display_data",
     "data": {
      "text/html": [
       "<style scoped>\n",
       "  .table-result-container {\n",
       "    max-height: 300px;\n",
       "    overflow: auto;\n",
       "  }\n",
       "  table, th, td {\n",
       "    border: 1px solid black;\n",
       "    border-collapse: collapse;\n",
       "  }\n",
       "  th, td {\n",
       "    padding: 5px;\n",
       "  }\n",
       "  th {\n",
       "    text-align: left;\n",
       "  }\n",
       "</style><div class='table-result-container'><table class='table-result'><thead style='background-color: white'><tr><th>num_affected_rows</th><th>num_inserted_rows</th></tr></thead><tbody></tbody></table></div>"
      ]
     },
     "metadata": {
      "application/vnd.databricks.v1+output": {
       "addedWidgets": {},
       "aggData": [],
       "aggError": "",
       "aggOverflow": false,
       "aggSchema": [],
       "aggSeriesLimitReached": false,
       "aggType": "",
       "arguments": {},
       "columnCustomDisplayInfos": {},
       "data": [],
       "datasetInfos": [],
       "dbfsResultPath": null,
       "isJsonSchema": true,
       "metadata": {
        "createTempViewForImplicitDf": true,
        "dataframeName": "_sqldf",
        "executionCount": 36
       },
       "overflow": false,
       "plotOptions": {
        "customPlotOptions": {},
        "displayType": "table",
        "pivotAggregation": null,
        "pivotColumns": null,
        "xColumns": null,
        "yColumns": null
       },
       "removedWidgets": [],
       "schema": [
        {
         "metadata": "{}",
         "name": "num_affected_rows",
         "type": "\"long\""
        },
        {
         "metadata": "{}",
         "name": "num_inserted_rows",
         "type": "\"long\""
        }
       ],
       "type": "table"
      }
     },
     "output_type": "display_data"
    }
   ],
   "source": [
    "%sql\n",
    "create table museums_data.artworks_fact\n",
    "as\n",
    "select * from tempArtworks"
   ]
  }
 ],
 "metadata": {
  "application/vnd.databricks.v1+notebook": {
   "computePreferences": null,
   "dashboards": [],
   "environmentMetadata": {
    "base_environment": "",
    "environment_version": "2"
   },
   "inputWidgetPreferences": null,
   "language": "python",
   "notebookMetadata": {
    "mostRecentlyExecutedCommandWithImplicitDF": {
     "commandId": 8569893934436945,
     "dataframes": [
      "_sqldf"
     ]
    },
    "pythonIndentUnit": 4
   },
   "notebookName": "data_transformation",
   "widgets": {}
  },
  "language_info": {
   "name": "python"
  }
 },
 "nbformat": 4,
 "nbformat_minor": 0
}